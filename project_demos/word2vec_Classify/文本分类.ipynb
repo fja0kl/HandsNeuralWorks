{
 "cells": [
  {
   "cell_type": "code",
   "execution_count": 1,
   "metadata": {},
   "outputs": [],
   "source": [
    "from gensim.models import Word2Vec\n",
    "import pandas as pd\n",
    "\n",
    "import warnings\n",
    "warnings.filterwarnings(\"ignore\")"
   ]
  },
  {
   "cell_type": "code",
   "execution_count": 2,
   "metadata": {},
   "outputs": [],
   "source": [
    "train = pd.read_csv('./data/train.txt')\n",
    "test = pd.read_csv('./data/test.txt')\n",
    "texts = list(train['text']) + list(test['text'])"
   ]
  },
  {
   "cell_type": "code",
   "execution_count": 3,
   "metadata": {},
   "outputs": [
    {
     "data": {
      "text/html": [
       "<div>\n",
       "<style scoped>\n",
       "    .dataframe tbody tr th:only-of-type {\n",
       "        vertical-align: middle;\n",
       "    }\n",
       "\n",
       "    .dataframe tbody tr th {\n",
       "        vertical-align: top;\n",
       "    }\n",
       "\n",
       "    .dataframe thead th {\n",
       "        text-align: right;\n",
       "    }\n",
       "</style>\n",
       "<table border=\"1\" class=\"dataframe\">\n",
       "  <thead>\n",
       "    <tr style=\"text-align: right;\">\n",
       "      <th></th>\n",
       "      <th>id</th>\n",
       "      <th>text</th>\n",
       "      <th>y</th>\n",
       "    </tr>\n",
       "  </thead>\n",
       "  <tbody>\n",
       "    <tr>\n",
       "      <th>0</th>\n",
       "      <td>0</td>\n",
       "      <td>来扰乱天子的边防</td>\n",
       "      <td>0</td>\n",
       "    </tr>\n",
       "    <tr>\n",
       "      <th>1</th>\n",
       "      <td>1</td>\n",
       "      <td>崤山以东地区虽然混乱</td>\n",
       "      <td>0</td>\n",
       "    </tr>\n",
       "    <tr>\n",
       "      <th>2</th>\n",
       "      <td>2</td>\n",
       "      <td>秦昭王闻之 使人遗赵王书 愿以十五城请易璧</td>\n",
       "      <td>1</td>\n",
       "    </tr>\n",
       "    <tr>\n",
       "      <th>3</th>\n",
       "      <td>3</td>\n",
       "      <td>臣不胜受恩感激</td>\n",
       "      <td>1</td>\n",
       "    </tr>\n",
       "    <tr>\n",
       "      <th>4</th>\n",
       "      <td>4</td>\n",
       "      <td>现在如果把东西寄存在别人处</td>\n",
       "      <td>0</td>\n",
       "    </tr>\n",
       "  </tbody>\n",
       "</table>\n",
       "</div>"
      ],
      "text/plain": [
       "   id                   text  y\n",
       "0   0               来扰乱天子的边防  0\n",
       "1   1             崤山以东地区虽然混乱  0\n",
       "2   2  秦昭王闻之 使人遗赵王书 愿以十五城请易璧  1\n",
       "3   3                臣不胜受恩感激  1\n",
       "4   4          现在如果把东西寄存在别人处  0"
      ]
     },
     "execution_count": 3,
     "metadata": {},
     "output_type": "execute_result"
    }
   ],
   "source": [
    "train[:5]"
   ]
  },
  {
   "cell_type": "code",
   "execution_count": 4,
   "metadata": {},
   "outputs": [
    {
     "data": {
      "text/plain": [
       "['来扰乱天子的边防',\n",
       " '崤山以东地区虽然混乱',\n",
       " '秦昭王闻之 使人遗赵王书 愿以十五城请易璧',\n",
       " '臣不胜受恩感激',\n",
       " '现在如果把东西寄存在别人处',\n",
       " '南北朝所以不治 文采胜质厚也',\n",
       " '而流贼进攻更急 城里有许多不同的意见',\n",
       " '吾上有三兄 皆不幸早世',\n",
       " '没有人不讲究熏衣剃面',\n",
       " '王曰 善']"
      ]
     },
     "execution_count": 4,
     "metadata": {},
     "output_type": "execute_result"
    }
   ],
   "source": [
    "texts[0:10]"
   ]
  },
  {
   "cell_type": "code",
   "execution_count": 5,
   "metadata": {},
   "outputs": [],
   "source": [
    "# 训练向量\n",
    "ndims = 50 #词向量维度\n",
    "model = Word2Vec(sentences=texts, size=ndims, window=5)#词向量训练"
   ]
  },
  {
   "cell_type": "markdown",
   "metadata": {},
   "source": [
    "sentences是训练样本，size是vector长度，window是窗口长度。每个词被表示成一个50维的向量"
   ]
  },
  {
   "cell_type": "code",
   "execution_count": 6,
   "metadata": {},
   "outputs": [
    {
     "name": "stdout",
     "output_type": "stream",
     "text": [
      "[ 3.1086391e-01 -7.9924040e-02 -2.0157899e-01  1.0492591e-02\n",
      "  4.3148735e-01  2.1149510e-01 -3.1569634e-02 -9.8550518e-05\n",
      "  5.1873779e-01  2.8804043e-01 -9.7279459e-02  3.3657601e-01\n",
      "  1.2387726e-01 -8.9712940e-02  5.1590126e-02  7.4343860e-01\n",
      "  3.8928455e-01  6.0298502e-01  1.1085374e-01 -3.2417268e-01\n",
      "  8.9301074e-01  5.1745600e-01 -1.8437846e-01 -3.2719243e-02\n",
      "  6.4264190e-01 -4.6355775e-01 -2.2568941e-01  4.5266545e-01\n",
      "  2.5820649e-01 -6.9434589e-01  3.2954001e-01 -2.7558899e-01\n",
      " -3.9894700e-02 -4.0475720e-01 -4.9199441e-01 -6.5186864e-01\n",
      " -6.0817993e-01  8.6889088e-01  3.8828489e-01  4.0601927e-01\n",
      " -1.1791771e-01 -8.0803216e-02 -7.6900452e-01 -3.4983450e-01\n",
      " -5.0679076e-01 -3.6116105e-01 -5.0504404e-01 -4.5293799e-01\n",
      "  2.4021594e-01 -2.6498601e-01]\n"
     ]
    }
   ],
   "source": [
    "# '之'的词向量\n",
    "print(model.wv['之'])"
   ]
  },
  {
   "cell_type": "code",
   "execution_count": 7,
   "metadata": {},
   "outputs": [
    {
     "data": {
      "text/plain": [
       "[('者', 0.996493399143219),\n",
       " ('曰', 0.9923252463340759),\n",
       " (' ', 0.9917057156562805),\n",
       " ('其', 0.9896804094314575),\n",
       " ('而', 0.987962007522583)]"
      ]
     },
     "execution_count": 7,
     "metadata": {},
     "output_type": "execute_result"
    }
   ],
   "source": [
    "# 和’之‘最接近的5个词\n",
    "model.wv.most_similar('之', topn=5)"
   ]
  },
  {
   "cell_type": "code",
   "execution_count": 8,
   "metadata": {},
   "outputs": [
    {
     "data": {
      "text/plain": [
       "0.995756"
      ]
     },
     "execution_count": 8,
     "metadata": {},
     "output_type": "execute_result"
    }
   ],
   "source": [
    "# 计算两个词的相似度\n",
    "model.similarity('东','南')"
   ]
  },
  {
   "cell_type": "code",
   "execution_count": 9,
   "metadata": {},
   "outputs": [],
   "source": [
    "# 训练模型保存\n",
    "model.save('./model50')\n",
    "# 模型加载\n",
    "#model = word2vec.Word2Vec.load('./model50')"
   ]
  },
  {
   "cell_type": "code",
   "execution_count": 10,
   "metadata": {},
   "outputs": [
    {
     "data": {
      "text/plain": [
       "True"
      ]
     },
     "execution_count": 10,
     "metadata": {},
     "output_type": "execute_result"
    }
   ],
   "source": [
    "' ' in model"
   ]
  },
  {
   "cell_type": "markdown",
   "metadata": {},
   "source": [
    "# 利用词向量进行数据可视化\n",
    "\n",
    "## 可视化词向量"
   ]
  },
  {
   "cell_type": "code",
   "execution_count": 11,
   "metadata": {},
   "outputs": [],
   "source": [
    "import numpy as np\n",
    "# 使用keras + tensorboard 可视化\n",
    "\n",
    "# word-index 对应关系\n",
    "word2idx = {\"_PAD\": 0} # 初始化 `[word : token]` 字典，后期 tokenize 语料库就是用该词典。\n",
    "\n",
    "# word--vector对应关系\n",
    "vocab_list = [(k, model.wv[k]) for k, v in model.wv.vocab.items()]\n",
    "\n",
    "# 存储所有 word2vec 中所有向量的数组，留意其中多一位，词向量全为 0， 用于 padding\n",
    "# 存储词向量的数组，多出一行，shape: [len_words, len_vector]\n",
    "embeddings_matrix = np.zeros((len(model.wv.vocab.items()) + 1, model.vector_size))\n",
    "for i in range(len(vocab_list)):# 跳过空行\n",
    "    word = vocab_list[i][0]# 词\n",
    "    word2idx[word] = i + 1 # 存储词的index\n",
    "    embeddings_matrix[i + 1] = vocab_list[i][1]#存储词的词向量"
   ]
  },
  {
   "cell_type": "code",
   "execution_count": 12,
   "metadata": {},
   "outputs": [
    {
     "name": "stderr",
     "output_type": "stream",
     "text": [
      "Using TensorFlow backend.\n"
     ]
    }
   ],
   "source": [
    "from keras.layers import Embedding\n",
    "from keras.callbacks import TensorBoard\n",
    "EMBEDDING_DIM = 50 #词向量维度\n",
    "\n",
    "embedding_layer = Embedding(len(embeddings_matrix),\n",
    "                            EMBEDDING_DIM,\n",
    "                            weights=[embeddings_matrix],\n",
    "                            trainable=False)"
   ]
  },
  {
   "cell_type": "code",
   "execution_count": 13,
   "metadata": {},
   "outputs": [],
   "source": [
    "logdir = \"./logs/{}\".format('first')\n",
    "tensorBoard = TensorBoard(log_dir = logdir,\n",
    "                                    histogram_freq = 1,\n",
    "                                    write_graph = True,\n",
    "                                    write_images = False,\n",
    "                                    embeddings_freq = 1,\n",
    "                                    embeddings_layer_names = None,\n",
    "                                    embeddings_metadata = None)\n",
    "\n",
    "\n",
    "# self.model.fit(train_x, train_y,\n",
    "#                        batch_size = self.batch_size,\n",
    "#                        epochs = self.epochs,\n",
    "#                        verbose = 1,\n",
    "#                        callbacks = [tensorBoard])"
   ]
  },
  {
   "cell_type": "code",
   "execution_count": 14,
   "metadata": {},
   "outputs": [
    {
     "name": "stdout",
     "output_type": "stream",
     "text": [
      "38\n"
     ]
    }
   ],
   "source": [
    "mx = max([len(sen) for sen in texts])# 句子最大长度\n",
    "print(mx)"
   ]
  },
  {
   "cell_type": "code",
   "execution_count": 15,
   "metadata": {},
   "outputs": [
    {
     "name": "stdout",
     "output_type": "stream",
     "text": [
      "[[652], [653], [654, 655, 656], [657], [658]]\n",
      "Found 17100 unique tokens.\n",
      "['窜梁鸿于海曲', '素誉之不立', '孔子', '天降吾民丰年', '而智术浅短', '详细地告诉了刘邦', '孔子编辑整合选择提炼', '其善者少', '然犹桀猾时起', '一千年出一位圣人']\n",
      "Shape of data tensor: (8385, 38)\n",
      "Shape of label tensor: (5000, 2)\n"
     ]
    }
   ],
   "source": [
    "# 定义网络进行分类\n",
    "from keras.preprocessing.text import Tokenizer\n",
    "from keras.preprocessing.sequence import pad_sequences\n",
    "from keras.utils import to_categorical\n",
    "import numpy as np\n",
    "\n",
    "\n",
    "## 处理文本\n",
    "# 分词\n",
    "tokenizer = Tokenizer()\n",
    "tokenizer.fit_on_texts(texts)# 训练，分词\n",
    "sequences = tokenizer.texts_to_sequences(texts)# 根据学习内容，将文本转化成分词列表\n",
    "print(sequences[:5])\n",
    "word_index = tokenizer.word_index\n",
    "print('Found %s unique tokens.' % len(word_index))#学习到的单词数\n",
    "print(list(word_index)[:10])\n",
    "# 将句子处理成相同长度 38\n",
    "MAX_SEQUENCE_LENGTH = 38\n",
    "data = pad_sequences(sequences, maxlen=MAX_SEQUENCE_LENGTH)\n",
    "# 处理标签\n",
    "labels = to_categorical(np.asarray(train['y']))#变成二进制类别矩阵\n",
    "print('Shape of data tensor:', data.shape)\n",
    "print('Shape of label tensor:', labels.shape)"
   ]
  },
  {
   "cell_type": "code",
   "execution_count": 17,
   "metadata": {},
   "outputs": [],
   "source": [
    "# 数据集划分，训练集，验证集和测试集\n",
    "N_Train = len(train)\n",
    "X_train = data[: N_Train]\n",
    "y_train = labels\n",
    "X_test = data[N_Train:]\n",
    "VALIDATION_SPLIT = 0.2\n",
    "\n",
    "from sklearn.model_selection import train_test_split\n",
    "\n",
    "X_train, X_val, y_train, y_val = train_test_split(X_train, y_train, test_size=0.2,random_state=42)"
   ]
  },
  {
   "cell_type": "code",
   "execution_count": 18,
   "metadata": {},
   "outputs": [
    {
     "name": "stdout",
     "output_type": "stream",
     "text": [
      "Shape of train: (4000, 38)\n",
      "Shape of validation: (1000, 38)\n",
      "Shape of test: (3385, 38)\n"
     ]
    }
   ],
   "source": [
    "print(\"Shape of train:\", X_train.shape)\n",
    "print(\"Shape of validation:\", X_val.shape)\n",
    "print(\"Shape of test:\", X_test.shape)"
   ]
  },
  {
   "cell_type": "code",
   "execution_count": 19,
   "metadata": {},
   "outputs": [
    {
     "name": "stdout",
     "output_type": "stream",
     "text": [
      "16917 words not in model\n",
      "183 words  in model\n"
     ]
    }
   ],
   "source": [
    "# 处理Word2Vec Embedding层\n",
    "import gensim\n",
    "\n",
    "EMBEDDING_DIM = 50 #词向量维度\n",
    "VECTOR_DIR = './model50'\n",
    "\n",
    "# 从目录加载模型\n",
    "w2v_model = gensim.models.Word2Vec.load(VECTOR_DIR)\n",
    "# embedding_matrix矩阵用来初始化Embedding网络层权重\n",
    "embedding_matrix = np.zeros((len(word_index)+1, EMBEDDING_DIM))\n",
    "\n",
    "not_in_model, in_model = 0, 0\n",
    "for word, i in word_index.items():\n",
    "#     print(word, i)\n",
    "    if word in w2v_model:\n",
    "#         print(word)\n",
    "        in_model += 1\n",
    "        embedding_matrix[i] = np.asarray(w2v_model[word], dtype='float32')\n",
    "    else:\n",
    "        not_in_model += 1\n",
    "print(str(not_in_model) + ' words not in model')\n",
    "print(str(in_model) + ' words  in model')"
   ]
  },
  {
   "cell_type": "code",
   "execution_count": 20,
   "metadata": {},
   "outputs": [],
   "source": [
    "from keras.layers import Embedding\n",
    "# Embedding层初始化\n",
    "# 2D tensor with shape: (batch_size, sequence_length).\n",
    "# 3D tensor with shape: (batch_size, sequence_length, output_dim).\n",
    "embedding_layer = Embedding(len(word_index) + 1, # 输入行数据中index最大值 行数据用integer表示的数组\n",
    "                            EMBEDDING_DIM,\n",
    "                            weights=[embedding_matrix],\n",
    "                            input_length=MAX_SEQUENCE_LENGTH,# 行大小\n",
    "                            trainable=False)"
   ]
  },
  {
   "cell_type": "code",
   "execution_count": 21,
   "metadata": {},
   "outputs": [
    {
     "name": "stdout",
     "output_type": "stream",
     "text": [
      "_________________________________________________________________\n",
      "Layer (type)                 Output Shape              Param #   \n",
      "=================================================================\n",
      "embedding_2 (Embedding)      (None, 38, 50)            855050    \n",
      "_________________________________________________________________\n",
      "dropout_1 (Dropout)          (None, 38, 50)            0         \n",
      "_________________________________________________________________\n",
      "conv1d_1 (Conv1D)            (None, 36, 250)           37750     \n",
      "_________________________________________________________________\n",
      "max_pooling1d_1 (MaxPooling1 (None, 12, 250)           0         \n",
      "_________________________________________________________________\n",
      "flatten_1 (Flatten)          (None, 3000)              0         \n",
      "_________________________________________________________________\n",
      "dense_1 (Dense)              (None, 50)                150050    \n",
      "_________________________________________________________________\n",
      "dense_2 (Dense)              (None, 2)                 102       \n",
      "=================================================================\n",
      "Total params: 1,042,952\n",
      "Trainable params: 187,902\n",
      "Non-trainable params: 855,050\n",
      "_________________________________________________________________\n",
      "['loss', 'acc']\n",
      "Train on 4000 samples, validate on 1000 samples\n",
      "Epoch 1/2\n",
      "4000/4000 [==============================] - 1s 195us/step - loss: 0.6859 - acc: 0.5498 - val_loss: 0.6779 - val_acc: 0.5680\n",
      "Epoch 2/2\n",
      "4000/4000 [==============================] - 0s 118us/step - loss: 0.6828 - acc: 0.5505 - val_loss: 0.6799 - val_acc: 0.5710\n"
     ]
    },
    {
     "data": {
      "text/plain": [
       "<keras.callbacks.History at 0x7f5995652f98>"
      ]
     },
     "execution_count": 21,
     "metadata": {},
     "output_type": "execute_result"
    }
   ],
   "source": [
    "# 模型定义 & 训练\n",
    "from keras.layers import Dense, Input, Flatten, Dropout\n",
    "from keras.layers import Conv1D, MaxPooling1D, Embedding, GlobalMaxPooling1D\n",
    "from keras.models import Sequential\n",
    "from keras.callbacks import TensorBoard\n",
    "\n",
    "model = Sequential()\n",
    "model.add(embedding_layer)\n",
    "model.add(Dropout(0.2))\n",
    "model.add(Conv1D(250, 3, padding='valid', activation='relu', strides=1))\n",
    "model.add(MaxPooling1D(3))\n",
    "model.add(Flatten())\n",
    "model.add(Dense(EMBEDDING_DIM, activation='relu'))\n",
    "model.add(Dense(2, activation='softmax'))\n",
    "model.summary()\n",
    "#plot_model(model, to_file='model.png',show_shapes=True)\n",
    "\n",
    "model.compile(loss='binary_crossentropy',\n",
    "              optimizer='rmsprop',\n",
    "              metrics=['acc'])\n",
    "print (model.metrics_names)\n",
    "\n",
    "tbCallBack = TensorBoard(log_dir='./logs',  # log 目录\n",
    "                 histogram_freq=0,  # 按照何等频率（epoch）来计算直方图，0为不计算\n",
    "#                  batch_size=32,     # 用多大量的数据计算直方图\n",
    "                 write_graph=True,  # 是否存储网络结构图\n",
    "                 write_grads=True, # 是否可视化梯度直方图\n",
    "                 write_images=True,# 是否可视化参数\n",
    "                 embeddings_freq=0, \n",
    "                 embeddings_layer_names=None, \n",
    "                 embeddings_metadata=None)\n",
    "\n",
    "model.fit(X_train, y_train, validation_data=(X_val, y_val), epochs=2, batch_size=128,\n",
    "         callbacks=[tbCallBack])"
   ]
  },
  {
   "cell_type": "code",
   "execution_count": 22,
   "metadata": {},
   "outputs": [
    {
     "name": "stdout",
     "output_type": "stream",
     "text": [
      "1000/1000 [==============================] - 0s 50us/step\n",
      "[0.6799473829269409, 0.571]\n"
     ]
    }
   ],
   "source": [
    "print (model.evaluate(X_val, y_val))\n",
    "submit = pd.read_csv('./data/sample_submit.csv')\n",
    "submit['y'] = model.predict_proba(X_test)[:, 1]\n",
    "submit.to_csv('cnn.csv', index=False)#保存， index=False，不添加序号"
   ]
  },
  {
   "cell_type": "code",
   "execution_count": 23,
   "metadata": {},
   "outputs": [
    {
     "name": "stdout",
     "output_type": "stream",
     "text": [
      "0.6799473672686145\n"
     ]
    }
   ],
   "source": [
    "from sklearn.metrics import log_loss\n",
    "\n",
    "loss = log_loss(y_val, model.predict_proba(X_val)[:, 1])\n",
    "print(loss)"
   ]
  },
  {
   "cell_type": "markdown",
   "metadata": {},
   "source": [
    "## 文本可视化"
   ]
  },
  {
   "cell_type": "code",
   "execution_count": 24,
   "metadata": {},
   "outputs": [
    {
     "name": "stdout",
     "output_type": "stream",
     "text": [
      "(5000, 2)\n"
     ]
    }
   ],
   "source": [
    "import numpy as np\n",
    "ndim = 2\n",
    "model2 = Word2Vec(sentences=texts, size=ndim, window=5)\n",
    "\n",
    "total = len(train)\n",
    "vecs = np.zeros([total, ndim])\n",
    "print(vecs.shape)\n",
    "for i, sentence in enumerate(train['text']):\n",
    "    counts = 0 \n",
    "    row = np.zeros((1,2))\n",
    "    for word in sentence:\n",
    "        try:\n",
    "            if word != ' ':\n",
    "                row += model2.wv[word]\n",
    "                counts += 1\n",
    "        except:\n",
    "            pass\n",
    "    if counts == 0:\n",
    "        print(sentence)\n",
    "    vecs[i, :] = row / counts"
   ]
  },
  {
   "cell_type": "code",
   "execution_count": 25,
   "metadata": {},
   "outputs": [
    {
     "name": "stdout",
     "output_type": "stream",
     "text": [
      "(5000, 2)\n",
      "[[ 2.07815393 -0.84368237]\n",
      " [ 1.94510776 -0.69959279]\n",
      " [ 2.12628203 -1.2836191 ]\n",
      " [ 2.13879742 -0.54735452]\n",
      " [ 2.1492486  -1.20554032]\n",
      " [ 2.37434597 -0.41389458]\n",
      " [ 2.36662988 -0.87202247]\n",
      " [ 2.53149941 -0.53050218]\n",
      " [ 2.41880397 -0.51631431]\n",
      " [ 2.20754592 -1.47843985]]\n"
     ]
    }
   ],
   "source": [
    "print(vecs.shape)\n",
    "print(vecs[:10])"
   ]
  },
  {
   "cell_type": "markdown",
   "metadata": {},
   "source": [
    "vecs是一个句子向量，我们将句子向量可视化。"
   ]
  },
  {
   "cell_type": "code",
   "execution_count": 26,
   "metadata": {},
   "outputs": [
    {
     "name": "stdout",
     "output_type": "stream",
     "text": [
      "['blue', 'blue', 'red', 'red', 'blue', 'red', 'blue', 'red', 'blue', 'red']\n",
      "Word2Vec: 白话文(蓝色)&文言文(红色)\n"
     ]
    },
    {
     "data": {
      "image/png": "[encoded data removed]",
      "text/plain": [
       "<Figure size 576x576 with 1 Axes>"
      ]
     },
     "metadata": {
      "needs_background": "light"
     },
     "output_type": "display_data"
    }
   ],
   "source": [
    "import matplotlib.pyplot as plt\n",
    "%matplotlib inline\n",
    "\n",
    "plt.figure(figsize=(8,8))\n",
    "#plt.axis([-3,1.5,1.5,3])\n",
    "colors = list(map(lambda x : 'red' if x == 1 else 'blue', train['y']))\n",
    "print(colors[:10])\n",
    "plt.scatter(vecs[:, 0], vecs[:, 1], c=colors, alpha=0.2)\n",
    "print(\"Word2Vec: 白话文(蓝色)&文言文(红色)\")\n",
    "#plt.show()"
   ]
  },
  {
   "cell_type": "markdown",
   "metadata": {},
   "source": [
    "尽管只用了长度为2的向量，文言文（红色）和白话文（蓝色）已经可以较好区分。"
   ]
  },
  {
   "cell_type": "markdown",
   "metadata": {},
   "source": [
    "## 建立分类器"
   ]
  },
  {
   "cell_type": "code",
   "execution_count": 27,
   "metadata": {},
   "outputs": [],
   "source": [
    "from sklearn.tree import DecisionTreeClassifier\n",
    "from gensim.models import Word2Vec\n",
    "import numpy as np\n",
    "\n",
    "train = pd.read_csv('./data/train.txt')\n",
    "test = pd.read_csv('./data/test.txt')\n",
    "submit = pd.read_csv('./data/sample_submit.csv')"
   ]
  },
  {
   "cell_type": "code",
   "execution_count": 28,
   "metadata": {},
   "outputs": [
    {
     "data": {
      "text/html": [
       "<div>\n",
       "<style scoped>\n",
       "    .dataframe tbody tr th:only-of-type {\n",
       "        vertical-align: middle;\n",
       "    }\n",
       "\n",
       "    .dataframe tbody tr th {\n",
       "        vertical-align: top;\n",
       "    }\n",
       "\n",
       "    .dataframe thead th {\n",
       "        text-align: right;\n",
       "    }\n",
       "</style>\n",
       "<table border=\"1\" class=\"dataframe\">\n",
       "  <thead>\n",
       "    <tr style=\"text-align: right;\">\n",
       "      <th></th>\n",
       "      <th>id</th>\n",
       "      <th>text</th>\n",
       "      <th>y</th>\n",
       "    </tr>\n",
       "  </thead>\n",
       "  <tbody>\n",
       "    <tr>\n",
       "      <th>0</th>\n",
       "      <td>0</td>\n",
       "      <td>来扰乱天子的边防</td>\n",
       "      <td>0</td>\n",
       "    </tr>\n",
       "    <tr>\n",
       "      <th>1</th>\n",
       "      <td>1</td>\n",
       "      <td>崤山以东地区虽然混乱</td>\n",
       "      <td>0</td>\n",
       "    </tr>\n",
       "    <tr>\n",
       "      <th>2</th>\n",
       "      <td>2</td>\n",
       "      <td>秦昭王闻之 使人遗赵王书 愿以十五城请易璧</td>\n",
       "      <td>1</td>\n",
       "    </tr>\n",
       "    <tr>\n",
       "      <th>3</th>\n",
       "      <td>3</td>\n",
       "      <td>臣不胜受恩感激</td>\n",
       "      <td>1</td>\n",
       "    </tr>\n",
       "    <tr>\n",
       "      <th>4</th>\n",
       "      <td>4</td>\n",
       "      <td>现在如果把东西寄存在别人处</td>\n",
       "      <td>0</td>\n",
       "    </tr>\n",
       "  </tbody>\n",
       "</table>\n",
       "</div>"
      ],
      "text/plain": [
       "   id                   text  y\n",
       "0   0               来扰乱天子的边防  0\n",
       "1   1             崤山以东地区虽然混乱  0\n",
       "2   2  秦昭王闻之 使人遗赵王书 愿以十五城请易璧  1\n",
       "3   3                臣不胜受恩感激  1\n",
       "4   4          现在如果把东西寄存在别人处  0"
      ]
     },
     "execution_count": 28,
     "metadata": {},
     "output_type": "execute_result"
    }
   ],
   "source": [
    "train.head()"
   ]
  },
  {
   "cell_type": "code",
   "execution_count": 29,
   "metadata": {},
   "outputs": [
    {
     "data": {
      "text/html": [
       "<div>\n",
       "<style scoped>\n",
       "    .dataframe tbody tr th:only-of-type {\n",
       "        vertical-align: middle;\n",
       "    }\n",
       "\n",
       "    .dataframe tbody tr th {\n",
       "        vertical-align: top;\n",
       "    }\n",
       "\n",
       "    .dataframe thead th {\n",
       "        text-align: right;\n",
       "    }\n",
       "</style>\n",
       "<table border=\"1\" class=\"dataframe\">\n",
       "  <thead>\n",
       "    <tr style=\"text-align: right;\">\n",
       "      <th></th>\n",
       "      <th>id</th>\n",
       "      <th>y</th>\n",
       "    </tr>\n",
       "  </thead>\n",
       "  <tbody>\n",
       "    <tr>\n",
       "      <th>0</th>\n",
       "      <td>5000</td>\n",
       "      <td>0.5</td>\n",
       "    </tr>\n",
       "    <tr>\n",
       "      <th>1</th>\n",
       "      <td>5001</td>\n",
       "      <td>0.5</td>\n",
       "    </tr>\n",
       "    <tr>\n",
       "      <th>2</th>\n",
       "      <td>5002</td>\n",
       "      <td>0.5</td>\n",
       "    </tr>\n",
       "    <tr>\n",
       "      <th>3</th>\n",
       "      <td>5003</td>\n",
       "      <td>0.5</td>\n",
       "    </tr>\n",
       "    <tr>\n",
       "      <th>4</th>\n",
       "      <td>5004</td>\n",
       "      <td>0.5</td>\n",
       "    </tr>\n",
       "  </tbody>\n",
       "</table>\n",
       "</div>"
      ],
      "text/plain": [
       "     id    y\n",
       "0  5000  0.5\n",
       "1  5001  0.5\n",
       "2  5002  0.5\n",
       "3  5003  0.5\n",
       "4  5004  0.5"
      ]
     },
     "execution_count": 29,
     "metadata": {},
     "output_type": "execute_result"
    }
   ],
   "source": [
    "submit.head()"
   ]
  },
  {
   "cell_type": "code",
   "execution_count": 30,
   "metadata": {},
   "outputs": [
    {
     "data": {
      "text/html": [
       "<div>\n",
       "<style scoped>\n",
       "    .dataframe tbody tr th:only-of-type {\n",
       "        vertical-align: middle;\n",
       "    }\n",
       "\n",
       "    .dataframe tbody tr th {\n",
       "        vertical-align: top;\n",
       "    }\n",
       "\n",
       "    .dataframe thead th {\n",
       "        text-align: right;\n",
       "    }\n",
       "</style>\n",
       "<table border=\"1\" class=\"dataframe\">\n",
       "  <thead>\n",
       "    <tr style=\"text-align: right;\">\n",
       "      <th></th>\n",
       "      <th>id</th>\n",
       "      <th>text</th>\n",
       "    </tr>\n",
       "  </thead>\n",
       "  <tbody>\n",
       "    <tr>\n",
       "      <th>0</th>\n",
       "      <td>5000</td>\n",
       "      <td>后来又合并为七个强国</td>\n",
       "    </tr>\n",
       "    <tr>\n",
       "      <th>1</th>\n",
       "      <td>5001</td>\n",
       "      <td>与吾父居者 今其室十无二三焉</td>\n",
       "    </tr>\n",
       "    <tr>\n",
       "      <th>2</th>\n",
       "      <td>5002</td>\n",
       "      <td>那么政局就会安定了</td>\n",
       "    </tr>\n",
       "    <tr>\n",
       "      <th>3</th>\n",
       "      <td>5003</td>\n",
       "      <td>我资米若薪于百姓 后之人必尔乎索之</td>\n",
       "    </tr>\n",
       "    <tr>\n",
       "      <th>4</th>\n",
       "      <td>5004</td>\n",
       "      <td>昔虞国宫之奇少长於君 君狎之</td>\n",
       "    </tr>\n",
       "  </tbody>\n",
       "</table>\n",
       "</div>"
      ],
      "text/plain": [
       "     id               text\n",
       "0  5000         后来又合并为七个强国\n",
       "1  5001     与吾父居者 今其室十无二三焉\n",
       "2  5002          那么政局就会安定了\n",
       "3  5003  我资米若薪于百姓 后之人必尔乎索之\n",
       "4  5004     昔虞国宫之奇少长於君 君狎之"
      ]
     },
     "execution_count": 30,
     "metadata": {},
     "output_type": "execute_result"
    }
   ],
   "source": [
    "test.head()"
   ]
  },
  {
   "cell_type": "code",
   "execution_count": 31,
   "metadata": {},
   "outputs": [
    {
     "name": "stdout",
     "output_type": "stream",
     "text": [
      "5000 8385\n"
     ]
    }
   ],
   "source": [
    "# word2vec重新训练\n",
    "texts = list(train['text']) + list(test['text'])\n",
    "n_train = len(train)\n",
    "total = len(texts)\n",
    "print(n_train, total)"
   ]
  },
  {
   "cell_type": "code",
   "execution_count": 32,
   "metadata": {},
   "outputs": [],
   "source": [
    "n_dims = 50\n",
    "#print(texts[:5])\n",
    "model = Word2Vec(sentences=texts, size=n_dims)\n",
    "\n",
    "# 获取数据的句子向量\n",
    "sen_vecs = np.zeros([total, n_dims])\n",
    "\n",
    "for i, sentence in enumerate(texts):\n",
    "    counts, row = 0, 0\n",
    "    for word in sentence:\n",
    "        try:\n",
    "            if word != ' ':# 获取句子向量,当前词不为空\n",
    "                row += model.wv[word]\n",
    "                counts += 1\n",
    "        except:\n",
    "            pass\n",
    "    if counts == 0:# 空白句子\n",
    "        print(sentence)\n",
    "    # 平均化：去除句子长度的影响\n",
    "    sen_vecs[i, :] = row / counts"
   ]
  },
  {
   "cell_type": "code",
   "execution_count": 33,
   "metadata": {},
   "outputs": [
    {
     "name": "stdout",
     "output_type": "stream",
     "text": [
      "[0 1]\n"
     ]
    }
   ],
   "source": [
    "# 使用决策树进行分类\n",
    "\n",
    "clf = DecisionTreeClassifier(max_depth=3, random_state=1003)\n",
    "# 使用训练集进行训练\n",
    "clf.fit(sen_vecs[:n_train], train['y'])\n",
    "print(clf.classes_)\n",
    "# 获取为正类的概率，保存到文件中\n",
    "submit['y'] = clf.predict_proba(sen_vecs[n_train:])[:, 1]\n",
    "submit.to_csv('my_prediction.csv', index=False)#保存， index=False，不添加序号"
   ]
  },
  {
   "cell_type": "code",
   "execution_count": 34,
   "metadata": {},
   "outputs": [
    {
     "name": "stdout",
     "output_type": "stream",
     "text": [
      "Emply Line, should replecaed by any thing else, or will cause a bug of tensorboard\n",
      "Run `tensorboard --logdir=./logs` to run visualize result on tensorboard\n"
     ]
    }
   ],
   "source": [
    "import sys, os\n",
    "from gensim.models import Word2Vec\n",
    "import tensorflow as tf\n",
    "import numpy as np\n",
    "from tensorflow.contrib.tensorboard.plugins import projector\n",
    "\n",
    "def visualize(model, output_path):\n",
    "    meta_file = \"w2x_metadata.tsv\"\n",
    "    placeholder = np.zeros((len(model.wv.index2word), 50))\n",
    "\n",
    "    with open(os.path.join(output_path,meta_file), 'wb') as file_metadata:\n",
    "        for i, word in enumerate(model.wv.index2word):\n",
    "            placeholder[i] = model[word]\n",
    "            # temporary solution for https://github.com/tensorflow/tensorflow/issues/9094\n",
    "            if word == ' ':\n",
    "                print(\"Emply Line, should replecaed by any thing else, or will cause a bug of tensorboard\")\n",
    "                file_metadata.write(\"{0}\".format('<Empty Line>').encode('utf8') + b'\\n')\n",
    "            else:\n",
    "                file_metadata.write(\"{0}\".format(word).encode('utf8') + b'\\n')\n",
    "\n",
    "    # define the model without training\n",
    "    sess = tf.InteractiveSession()\n",
    "\n",
    "    embedding = tf.Variable(placeholder, trainable = False, name = 'w2x_metadata')\n",
    "    tf.global_variables_initializer().run()\n",
    "\n",
    "    saver = tf.train.Saver()\n",
    "    writer = tf.summary.FileWriter(output_path, sess.graph)\n",
    "\n",
    "    # adding into projector\n",
    "    config = projector.ProjectorConfig()\n",
    "    embed = config.embeddings.add()\n",
    "    embed.tensor_name = 'w2x_metadata'\n",
    "    embed.metadata_path = meta_file\n",
    "\n",
    "    # Specify the width and height of a single thumbnail.\n",
    "    projector.visualize_embeddings(writer, config)\n",
    "    saver.save(sess, os.path.join(output_path,'w2x_metadata.ckpt'))\n",
    "    print('Run `tensorboard --logdir={0}` to run visualize result on tensorboard'.format(output_path))\n",
    "\n",
    "if __name__ == \"__main__\":\n",
    "    model = Word2Vec.load(\"./model50\")\n",
    "    visualize(model,\"./logs\")"
   ]
  },
  {
   "cell_type": "code",
   "execution_count": null,
   "metadata": {},
   "outputs": [],
   "source": []
  }
 ],
 "metadata": {
  "kernelspec": {
   "display_name": "Python 3",
   "language": "python",
   "name": "python3"
  },
  "language_info": {
   "codemirror_mode": {
    "name": "ipython",
    "version": 3
   },
   "file_extension": ".py",
   "mimetype": "text/x-python",
   "name": "python",
   "nbconvert_exporter": "python",
   "pygments_lexer": "ipython3",
   "version": "3.5.2"
  }
 },
 "nbformat": 4,
 "nbformat_minor": 2
}
