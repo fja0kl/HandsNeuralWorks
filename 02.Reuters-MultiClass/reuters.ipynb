{
 "cells": [
  {
   "cell_type": "code",
   "execution_count": 1,
   "metadata": {},
   "outputs": [
    {
     "name": "stderr",
     "output_type": "stream",
     "text": [
      "Using TensorFlow backend.\n"
     ]
    }
   ],
   "source": [
    "from keras.datasets import reuters\n",
    "from keras import models\n",
    "from keras import layers\n",
    "from keras.utils.np_utils import to_categorical\n",
    "\n",
    "import numpy as np\n",
    "import matplotlib.pyplot as plt\n",
    "%matplotlib inline"
   ]
  },
  {
   "cell_type": "code",
   "execution_count": 2,
   "metadata": {},
   "outputs": [],
   "source": [
    "#加载reuters数据集\n",
    "(train_data,train_labels),(test_data,test_labels) = reuters.load_data(num_words=10000)"
   ]
  },
  {
   "cell_type": "markdown",
   "metadata": {},
   "source": [
    "观察一下数据集"
   ]
  },
  {
   "cell_type": "code",
   "execution_count": 3,
   "metadata": {},
   "outputs": [
    {
     "name": "stdout",
     "output_type": "stream",
     "text": [
      "8982 2246\n"
     ]
    }
   ],
   "source": [
    "print(len(train_data),len(test_data))"
   ]
  },
  {
   "cell_type": "code",
   "execution_count": 4,
   "metadata": {},
   "outputs": [
    {
     "name": "stdout",
     "output_type": "stream",
     "text": [
      "[1, 2, 2, 8, 43, 10, 447, 5, 25, 207, 270, 5, 3095, 111, 16, 369, 186, 90, 67, 7, 89, 5, 19, 102, 6, 19, 124, 15, 90, 67, 84, 22, 482, 26, 7, 48, 4, 49, 8, 864, 39, 209, 154, 6, 151, 6, 83, 11, 15, 22, 155, 11, 15, 7, 48, 9, 4579, 1005, 504, 6, 258, 6, 272, 11, 15, 22, 134, 44, 11, 15, 16, 8, 197, 1245, 90, 67, 52, 29, 209, 30, 32, 132, 6, 109, 15, 17, 12]\n"
     ]
    }
   ],
   "source": [
    "print(train_data[0])#数字化"
   ]
  },
  {
   "cell_type": "markdown",
   "metadata": {},
   "source": [
    "想办法将转换后的数字表示逆向化，得到原始文本内容；"
   ]
  },
  {
   "cell_type": "code",
   "execution_count": 5,
   "metadata": {},
   "outputs": [
    {
     "name": "stdout",
     "output_type": "stream",
     "text": [
      "Downloading data from https://s3.amazonaws.com/text-datasets/reuters_word_index.json\n",
      "557056/550378 [==============================] - 2s 3us/step\n"
     ]
    }
   ],
   "source": [
    "word_index = reuters.get_word_index()# 单词--下标 对应字典\n",
    "index_word = dict([(val,key) for (key,val) in word_index.items()])"
   ]
  },
  {
   "cell_type": "code",
   "execution_count": 7,
   "metadata": {},
   "outputs": [],
   "source": [
    "decoded_newswire = ' '.join([index_word.get(i - 3, '?') for i in train_data[0]])"
   ]
  },
  {
   "cell_type": "code",
   "execution_count": 8,
   "metadata": {},
   "outputs": [
    {
     "data": {
      "text/plain": [
       "'? ? ? said as a result of its december acquisition of space co it expects earnings per share in 1987 of 1 15 to 1 30 dlrs per share up from 70 cts in 1986 the company said pretax net should rise to nine to 10 mln dlrs from six mln dlrs in 1986 and rental operation revenues to 19 to 22 mln dlrs from 12 5 mln dlrs it said cash flow per share this year should be 2 50 to three dlrs reuter 3'"
      ]
     },
     "execution_count": 8,
     "metadata": {},
     "output_type": "execute_result"
    }
   ],
   "source": [
    "decoded_newswire"
   ]
  },
  {
   "cell_type": "markdown",
   "metadata": {},
   "source": [
    "数据处理--向量化"
   ]
  },
  {
   "cell_type": "code",
   "execution_count": 19,
   "metadata": {},
   "outputs": [],
   "source": [
    "def vectorize_sequences(sequences, dimension=10000):\n",
    "    results = np.zeros((len(sequences),dimension))\n",
    "    for i, sequence in enumerate(sequences):\n",
    "        results[i, sequence] = 1.\n",
    "    return results"
   ]
  },
  {
   "cell_type": "code",
   "execution_count": 20,
   "metadata": {},
   "outputs": [],
   "source": [
    "x_train = vectorize_sequences(train_data)\n",
    "x_test = vectorize_sequences(test_data)"
   ]
  },
  {
   "cell_type": "markdown",
   "metadata": {},
   "source": [
    "标签处理有两种方法：\n",
    "1. one-hot编码(categorical encoding)；\n",
    "2. 直接转换成数字向量；"
   ]
  },
  {
   "cell_type": "code",
   "execution_count": 21,
   "metadata": {},
   "outputs": [],
   "source": [
    "def to_one_hot(labels, dimension=46):# 46个类别\n",
    "    results = np.zeros((len(labels), dimension))\n",
    "    for i, label in enumerate(labels):\n",
    "        results[i, label] = 1.\n",
    "    return results\n",
    "\n",
    "one_hot_train_labels = to_one_hot(train_labels)\n",
    "one_hot_test_labels = to_one_hot(test_labels)"
   ]
  },
  {
   "cell_type": "code",
   "execution_count": 22,
   "metadata": {},
   "outputs": [
    {
     "data": {
      "text/plain": [
       "array([[0., 0., 0., ..., 0., 0., 0.],\n",
       "       [0., 0., 0., ..., 0., 0., 0.],\n",
       "       [0., 0., 0., ..., 0., 0., 0.],\n",
       "       ...,\n",
       "       [0., 0., 0., ..., 0., 0., 0.],\n",
       "       [0., 0., 0., ..., 0., 0., 0.],\n",
       "       [0., 0., 0., ..., 0., 0., 0.]])"
      ]
     },
     "execution_count": 22,
     "metadata": {},
     "output_type": "execute_result"
    }
   ],
   "source": [
    "one_hot_train_labels"
   ]
  },
  {
   "cell_type": "code",
   "execution_count": 23,
   "metadata": {},
   "outputs": [],
   "source": [
    "from keras.utils.np_utils import to_categorical\n",
    "\n",
    "one_hot_train_labels = to_categorical(train_labels)\n",
    "one_hot_test_labels = to_categorical(test_labels)"
   ]
  },
  {
   "cell_type": "markdown",
   "metadata": {},
   "source": [
    "模型定义"
   ]
  },
  {
   "cell_type": "code",
   "execution_count": 24,
   "metadata": {},
   "outputs": [],
   "source": [
    "model = models.Sequential()\n",
    "\n",
    "model.add(layers.Dense(64,activation='relu',input_shape=(10000,)))\n",
    "model.add(layers.Dense(64,activation='relu'))\n",
    "model.add(layers.Dense(46,activation='softmax'))"
   ]
  },
  {
   "cell_type": "markdown",
   "metadata": {},
   "source": [
    "划分验证集，训练过程中进行验证"
   ]
  },
  {
   "cell_type": "code",
   "execution_count": 25,
   "metadata": {},
   "outputs": [],
   "source": [
    "x_val = x_train[:1000]\n",
    "partial_x_train = x_train[1000:]\n",
    "\n",
    "y_val = one_hot_train_labels[:1000]\n",
    "partial_y_train = one_hot_train_labels[1000:]"
   ]
  },
  {
   "cell_type": "code",
   "execution_count": 26,
   "metadata": {},
   "outputs": [],
   "source": [
    "# 模型训练\n",
    "model.compile(optimizer='rmsprop',loss='categorical_crossentropy',metrics=['acc'])"
   ]
  },
  {
   "cell_type": "code",
   "execution_count": 27,
   "metadata": {},
   "outputs": [
    {
     "name": "stdout",
     "output_type": "stream",
     "text": [
      "Train on 7982 samples, validate on 1000 samples\n",
      "Epoch 1/20\n",
      "7982/7982 [==============================] - 1s 118us/step - loss: 2.6102 - acc: 0.5287 - val_loss: 1.6778 - val_acc: 0.6340\n",
      "Epoch 2/20\n",
      "7982/7982 [==============================] - 1s 90us/step - loss: 1.3994 - acc: 0.7035 - val_loss: 1.2831 - val_acc: 0.7150\n",
      "Epoch 3/20\n",
      "7982/7982 [==============================] - 1s 89us/step - loss: 1.0562 - acc: 0.7676 - val_loss: 1.1193 - val_acc: 0.7550\n",
      "Epoch 4/20\n",
      "7982/7982 [==============================] - 1s 89us/step - loss: 0.8303 - acc: 0.8211 - val_loss: 1.0192 - val_acc: 0.7890\n",
      "Epoch 5/20\n",
      "7982/7982 [==============================] - 1s 90us/step - loss: 0.6645 - acc: 0.8602 - val_loss: 0.9665 - val_acc: 0.8000\n",
      "Epoch 6/20\n",
      "7982/7982 [==============================] - 1s 92us/step - loss: 0.5311 - acc: 0.8916 - val_loss: 0.9177 - val_acc: 0.8150\n",
      "Epoch 7/20\n",
      "7982/7982 [==============================] - 1s 94us/step - loss: 0.4298 - acc: 0.9107 - val_loss: 0.9171 - val_acc: 0.8100\n",
      "Epoch 8/20\n",
      "7982/7982 [==============================] - 1s 91us/step - loss: 0.3475 - acc: 0.9255 - val_loss: 0.9157 - val_acc: 0.8080\n",
      "Epoch 9/20\n",
      "7982/7982 [==============================] - 1s 94us/step - loss: 0.2905 - acc: 0.9366 - val_loss: 0.9082 - val_acc: 0.8160\n",
      "Epoch 10/20\n",
      "7982/7982 [==============================] - 1s 94us/step - loss: 0.2432 - acc: 0.9446 - val_loss: 0.8956 - val_acc: 0.8240\n",
      "Epoch 11/20\n",
      "7982/7982 [==============================] - 1s 95us/step - loss: 0.2108 - acc: 0.9498 - val_loss: 0.9022 - val_acc: 0.8070\n",
      "Epoch 12/20\n",
      "7982/7982 [==============================] - 1s 91us/step - loss: 0.1838 - acc: 0.9523 - val_loss: 0.9147 - val_acc: 0.8090\n",
      "Epoch 13/20\n",
      "7982/7982 [==============================] - 1s 91us/step - loss: 0.1690 - acc: 0.9518 - val_loss: 0.9535 - val_acc: 0.8070\n",
      "Epoch 14/20\n",
      "7982/7982 [==============================] - 1s 95us/step - loss: 0.1540 - acc: 0.9540 - val_loss: 0.9422 - val_acc: 0.8130\n",
      "Epoch 15/20\n",
      "7982/7982 [==============================] - 1s 91us/step - loss: 0.1441 - acc: 0.9535 - val_loss: 0.9809 - val_acc: 0.8100\n",
      "Epoch 16/20\n",
      "7982/7982 [==============================] - 1s 95us/step - loss: 0.1313 - acc: 0.9574 - val_loss: 0.9611 - val_acc: 0.8140\n",
      "Epoch 17/20\n",
      "7982/7982 [==============================] - 1s 94us/step - loss: 0.1215 - acc: 0.9579 - val_loss: 1.0226 - val_acc: 0.8110\n",
      "Epoch 18/20\n",
      "7982/7982 [==============================] - 1s 95us/step - loss: 0.1228 - acc: 0.9564 - val_loss: 1.0147 - val_acc: 0.8020\n",
      "Epoch 19/20\n",
      "7982/7982 [==============================] - 1s 91us/step - loss: 0.1155 - acc: 0.9569 - val_loss: 1.0601 - val_acc: 0.8060\n",
      "Epoch 20/20\n",
      "7982/7982 [==============================] - 1s 93us/step - loss: 0.1130 - acc: 0.9582 - val_loss: 1.0483 - val_acc: 0.8050\n"
     ]
    }
   ],
   "source": [
    "history = model.fit(partial_x_train,partial_y_train,epochs=20,batch_size=512,validation_data=(x_val,y_val))"
   ]
  },
  {
   "cell_type": "markdown",
   "metadata": {},
   "source": [
    "画图观察损失函数变化以及准确率变化情况"
   ]
  },
  {
   "cell_type": "code",
   "execution_count": 29,
   "metadata": {},
   "outputs": [
    {
     "data": {
      "image/png": "[encoded data removed]",
      "text/plain": [
       "<Figure size 432x288 with 1 Axes>"
      ]
     },
     "metadata": {},
     "output_type": "display_data"
    }
   ],
   "source": [
    "# 损失函数变化\n",
    "train_loss = history.history['loss']\n",
    "val_loss = history.history['val_loss']\n",
    "\n",
    "epochs = range(1,len(train_loss)+1)\n",
    "plt.plot(epochs,train_loss,'b',label='Training loss')\n",
    "plt.plot(epochs,val_loss,'bo',label='Validation loss')\n",
    "plt.title('Training and Validation loss')\n",
    "plt.xlabel('Epochs')\n",
    "plt.ylabel('loss')\n",
    "plt.legend()\n",
    "\n",
    "plt.show()"
   ]
  },
  {
   "cell_type": "code",
   "execution_count": 30,
   "metadata": {},
   "outputs": [
    {
     "data": {
      "image/png": "[encoded data removed]",
      "text/plain": [
       "<Figure size 432x288 with 1 Axes>"
      ]
     },
     "metadata": {},
     "output_type": "display_data"
    }
   ],
   "source": [
    "# 准确率变化\n",
    "plt.clf()\n",
    "train_acc = history.history['acc']\n",
    "val_acc = history.history['val_acc']\n",
    "epochs = range(1,len(train_acc)+1)\n",
    "\n",
    "plt.plot(epochs,train_acc,'b',label='Training accuracy')\n",
    "plt.plot(epochs,val_acc,'bo',label='Validation accuracy')\n",
    "plt.title('Training & Validation accuracy')\n",
    "plt.xlabel('Epochs')\n",
    "plt.ylabel('Accuarcy')\n",
    "plt.legend()\n",
    "\n",
    "plt.show()"
   ]
  },
  {
   "cell_type": "markdown",
   "metadata": {},
   "source": [
    "从第9个epochs开始模型发生过拟合现象。让epochs=9，重新训练模型。"
   ]
  },
  {
   "cell_type": "code",
   "execution_count": 32,
   "metadata": {},
   "outputs": [
    {
     "name": "stdout",
     "output_type": "stream",
     "text": [
      "Epoch 1/9\n",
      "8982/8982 [==============================] - 1s 87us/step - loss: 2.4437 - acc: 0.5332\n",
      "Epoch 2/9\n",
      "8982/8982 [==============================] - 1s 75us/step - loss: 1.3241 - acc: 0.7161\n",
      "Epoch 3/9\n",
      "8982/8982 [==============================] - 1s 75us/step - loss: 0.9744 - acc: 0.7869\n",
      "Epoch 4/9\n",
      "8982/8982 [==============================] - 1s 75us/step - loss: 0.7565 - acc: 0.8390\n",
      "Epoch 5/9\n",
      "8982/8982 [==============================] - 1s 78us/step - loss: 0.5963 - acc: 0.8764\n",
      "Epoch 6/9\n",
      "8982/8982 [==============================] - 1s 79us/step - loss: 0.4751 - acc: 0.9009\n",
      "Epoch 7/9\n",
      "8982/8982 [==============================] - 1s 84us/step - loss: 0.3831 - acc: 0.9175\n",
      "Epoch 8/9\n",
      "8982/8982 [==============================] - 1s 79us/step - loss: 0.3076 - acc: 0.9348\n",
      "Epoch 9/9\n",
      "8982/8982 [==============================] - 1s 76us/step - loss: 0.2591 - acc: 0.9414\n",
      "2246/2246 [==============================] - 0s 106us/step\n"
     ]
    }
   ],
   "source": [
    "model = models.Sequential()\n",
    "\n",
    "model.add(layers.Dense(64, activation='relu', input_shape=(10000,)))\n",
    "model.add(layers.Dense(64, activation='relu'))\n",
    "model.add(layers.Dense(46, activation='softmax'))\n",
    "\n",
    "model.compile(optimizer='rmsprop',loss='categorical_crossentropy',metrics=['accuracy'])\n",
    "model.fit(x_train,one_hot_train_labels,epochs=9,batch_size=512)\n",
    "results = model.evaluate(x_test, one_hot_test_labels)"
   ]
  },
  {
   "cell_type": "code",
   "execution_count": 33,
   "metadata": {},
   "outputs": [
    {
     "data": {
      "text/plain": [
       "[0.9800313458523364, 0.7902938557966204]"
      ]
     },
     "execution_count": 33,
     "metadata": {},
     "output_type": "execute_result"
    }
   ],
   "source": [
    "results# 准确率80%"
   ]
  },
  {
   "cell_type": "markdown",
   "metadata": {},
   "source": [
    "测试实验一：使用更大的神经元 128"
   ]
  },
  {
   "cell_type": "code",
   "execution_count": 34,
   "metadata": {},
   "outputs": [
    {
     "name": "stdout",
     "output_type": "stream",
     "text": [
      "Train on 7982 samples, validate on 1000 samples\n",
      "Epoch 1/20\n",
      "7982/7982 [==============================] - 1s 119us/step - loss: 2.1361 - acc: 0.5826 - val_loss: 1.3860 - val_acc: 0.6930\n",
      "Epoch 2/20\n",
      "7982/7982 [==============================] - 1s 94us/step - loss: 1.0770 - acc: 0.7690 - val_loss: 1.0795 - val_acc: 0.7710\n",
      "Epoch 3/20\n",
      "7982/7982 [==============================] - 1s 95us/step - loss: 0.7405 - acc: 0.8455 - val_loss: 0.9620 - val_acc: 0.7960\n",
      "Epoch 4/20\n",
      "7982/7982 [==============================] - 1s 99us/step - loss: 0.5410 - acc: 0.8866 - val_loss: 0.9048 - val_acc: 0.8030\n",
      "Epoch 5/20\n",
      "7982/7982 [==============================] - 1s 94us/step - loss: 0.3990 - acc: 0.9176 - val_loss: 0.8914 - val_acc: 0.8170\n",
      "Epoch 6/20\n",
      "7982/7982 [==============================] - 1s 100us/step - loss: 0.2991 - acc: 0.9369 - val_loss: 0.8508 - val_acc: 0.8260\n",
      "Epoch 7/20\n",
      "7982/7982 [==============================] - 1s 98us/step - loss: 0.2475 - acc: 0.9432 - val_loss: 0.9044 - val_acc: 0.8090\n",
      "Epoch 8/20\n",
      "7982/7982 [==============================] - 1s 98us/step - loss: 0.1973 - acc: 0.9486 - val_loss: 0.9711 - val_acc: 0.8020\n",
      "Epoch 9/20\n",
      "7982/7982 [==============================] - 1s 101us/step - loss: 0.1751 - acc: 0.9510 - val_loss: 0.9445 - val_acc: 0.8110\n",
      "Epoch 10/20\n",
      "7982/7982 [==============================] - 1s 110us/step - loss: 0.1606 - acc: 0.9544 - val_loss: 0.9384 - val_acc: 0.8190\n",
      "Epoch 11/20\n",
      "7982/7982 [==============================] - 1s 103us/step - loss: 0.1443 - acc: 0.9545 - val_loss: 0.9571 - val_acc: 0.8210\n",
      "Epoch 12/20\n",
      "7982/7982 [==============================] - 1s 96us/step - loss: 0.1366 - acc: 0.9554 - val_loss: 1.0424 - val_acc: 0.7890\n",
      "Epoch 13/20\n",
      "7982/7982 [==============================] - 1s 98us/step - loss: 0.1291 - acc: 0.9543 - val_loss: 0.9795 - val_acc: 0.8170\n",
      "Epoch 14/20\n",
      "7982/7982 [==============================] - 1s 96us/step - loss: 0.1223 - acc: 0.9582 - val_loss: 1.0718 - val_acc: 0.7960\n",
      "Epoch 15/20\n",
      "7982/7982 [==============================] - 1s 96us/step - loss: 0.1173 - acc: 0.9585 - val_loss: 1.0529 - val_acc: 0.7950\n",
      "Epoch 16/20\n",
      "7982/7982 [==============================] - 1s 99us/step - loss: 0.1195 - acc: 0.9570 - val_loss: 1.0800 - val_acc: 0.8000\n",
      "Epoch 17/20\n",
      "7982/7982 [==============================] - 1s 95us/step - loss: 0.1126 - acc: 0.9573 - val_loss: 1.0452 - val_acc: 0.8110\n",
      "Epoch 18/20\n",
      "7982/7982 [==============================] - 1s 96us/step - loss: 0.1071 - acc: 0.9573 - val_loss: 1.0946 - val_acc: 0.8000\n",
      "Epoch 19/20\n",
      "7982/7982 [==============================] - 1s 104us/step - loss: 0.1079 - acc: 0.9582 - val_loss: 1.0267 - val_acc: 0.8110\n",
      "Epoch 20/20\n",
      "7982/7982 [==============================] - 1s 108us/step - loss: 0.1033 - acc: 0.9568 - val_loss: 1.0357 - val_acc: 0.8110\n"
     ]
    }
   ],
   "source": [
    "model = models.Sequential()\n",
    "\n",
    "model.add(layers.Dense(128, activation='relu', input_shape=(10000,)))\n",
    "model.add(layers.Dense(128, activation='relu'))\n",
    "model.add(layers.Dense(46, activation='softmax'))\n",
    "\n",
    "model.compile(optimizer='rmsprop',loss='categorical_crossentropy',metrics=['accuracy'])\n",
    "history = model.fit(partial_x_train,partial_y_train,epochs=20,batch_size=512,validation_data=(x_val,y_val))"
   ]
  },
  {
   "cell_type": "code",
   "execution_count": 35,
   "metadata": {},
   "outputs": [
    {
     "data": {
      "image/png": "[encoded data removed]",
      "text/plain": [
       "<Figure size 432x288 with 1 Axes>"
      ]
     },
     "metadata": {},
     "output_type": "display_data"
    }
   ],
   "source": [
    "plt.clf()\n",
    "train_acc = history.history['acc']\n",
    "val_acc = history.history['val_acc']\n",
    "epochs = range(1,len(train_acc)+1)\n",
    "\n",
    "plt.plot(epochs,train_acc,'b',label='Training accuracy')\n",
    "plt.plot(epochs,val_acc,'bo',label='Validation accuracy')\n",
    "plt.title('Training & Validation accuracy')\n",
    "plt.xlabel('Epochs')\n",
    "plt.ylabel('Accuarcy')\n",
    "plt.legend()\n",
    "\n",
    "plt.show()"
   ]
  },
  {
   "cell_type": "markdown",
   "metadata": {},
   "source": [
    "使用相同的epochs，在测试集上比较"
   ]
  },
  {
   "cell_type": "code",
   "execution_count": 36,
   "metadata": {},
   "outputs": [
    {
     "name": "stdout",
     "output_type": "stream",
     "text": [
      "Train on 7982 samples, validate on 1000 samples\n",
      "Epoch 1/9\n",
      "7982/7982 [==============================] - 1s 181us/step - loss: 1.5790 - acc: 0.6609 - val_loss: 1.1920 - val_acc: 0.7250\n",
      "Epoch 2/9\n",
      "7982/7982 [==============================] - 1s 157us/step - loss: 0.7681 - acc: 0.8341 - val_loss: 0.9614 - val_acc: 0.7830\n",
      "Epoch 3/9\n",
      "7982/7982 [==============================] - 1s 157us/step - loss: 0.4603 - acc: 0.9014 - val_loss: 0.8424 - val_acc: 0.8220\n",
      "Epoch 4/9\n",
      "7982/7982 [==============================] - 1s 156us/step - loss: 0.2983 - acc: 0.9328 - val_loss: 0.8445 - val_acc: 0.8270\n",
      "Epoch 5/9\n",
      "7982/7982 [==============================] - 1s 161us/step - loss: 0.2328 - acc: 0.9440 - val_loss: 0.8502 - val_acc: 0.8340\n",
      "Epoch 6/9\n",
      "7982/7982 [==============================] - 1s 157us/step - loss: 0.1900 - acc: 0.9499 - val_loss: 0.9797 - val_acc: 0.7990\n",
      "Epoch 7/9\n",
      "7982/7982 [==============================] - 1s 167us/step - loss: 0.1685 - acc: 0.9523 - val_loss: 0.9892 - val_acc: 0.8090\n",
      "Epoch 8/9\n",
      "7982/7982 [==============================] - 1s 163us/step - loss: 0.1561 - acc: 0.9541 - val_loss: 0.9401 - val_acc: 0.8100\n",
      "Epoch 9/9\n",
      "7982/7982 [==============================] - 1s 166us/step - loss: 0.1425 - acc: 0.9545 - val_loss: 0.9939 - val_acc: 0.8120\n",
      "2246/2246 [==============================] - 0s 129us/step\n"
     ]
    }
   ],
   "source": [
    "model = models.Sequential()\n",
    "model.add(layers.Dense(128, activation='relu', input_shape=(10000,)))\n",
    "model.add(layers.Dense(128, activation='relu'))\n",
    "model.add(layers.Dense(46, activation='softmax'))\n",
    "model.compile(optimizer='rmsprop',loss='categorical_crossentropy',metrics=['accuracy'])\n",
    "model.fit(partial_x_train,partial_y_train,epochs=9,batch_size=128,validation_data=(x_val, y_val))\n",
    "bigger_results = model.evaluate(x_test,one_hot_test_labels)"
   ]
  },
  {
   "cell_type": "code",
   "execution_count": 37,
   "metadata": {},
   "outputs": [
    {
     "data": {
      "text/plain": [
       "[1.1628838362485727, 0.792965271647021]"
      ]
     },
     "execution_count": 37,
     "metadata": {},
     "output_type": "execute_result"
    }
   ],
   "source": [
    "bigger_results # 准确率高了0.2个百分点"
   ]
  },
  {
   "cell_type": "markdown",
   "metadata": {},
   "source": [
    "实验二：使用更小的神经元：32个"
   ]
  },
  {
   "cell_type": "code",
   "execution_count": 39,
   "metadata": {},
   "outputs": [
    {
     "name": "stdout",
     "output_type": "stream",
     "text": [
      "Train on 7982 samples, validate on 1000 samples\n",
      "Epoch 1/9\n",
      "7982/7982 [==============================] - 1s 106us/step - loss: 2.3400 - acc: 0.5654 - val_loss: 1.4937 - val_acc: 0.6670\n",
      "Epoch 2/9\n",
      "7982/7982 [==============================] - 1s 85us/step - loss: 1.2308 - acc: 0.7329 - val_loss: 1.1727 - val_acc: 0.7330\n",
      "Epoch 3/9\n",
      "7982/7982 [==============================] - 1s 86us/step - loss: 0.9305 - acc: 0.7953 - val_loss: 1.0422 - val_acc: 0.7780\n",
      "Epoch 4/9\n",
      "7982/7982 [==============================] - 1s 87us/step - loss: 0.7243 - acc: 0.8414 - val_loss: 0.9593 - val_acc: 0.7980\n",
      "Epoch 5/9\n",
      "7982/7982 [==============================] - 1s 87us/step - loss: 0.5710 - acc: 0.8790 - val_loss: 0.9164 - val_acc: 0.8110\n",
      "Epoch 6/9\n",
      "7982/7982 [==============================] - 1s 86us/step - loss: 0.4510 - acc: 0.9008 - val_loss: 0.8948 - val_acc: 0.8150\n",
      "Epoch 7/9\n",
      "7982/7982 [==============================] - 1s 87us/step - loss: 0.3620 - acc: 0.9207 - val_loss: 0.9105 - val_acc: 0.8150\n",
      "Epoch 8/9\n",
      "7982/7982 [==============================] - 1s 87us/step - loss: 0.2946 - acc: 0.9361 - val_loss: 0.8986 - val_acc: 0.8220\n",
      "Epoch 9/9\n",
      "7982/7982 [==============================] - 1s 88us/step - loss: 0.2460 - acc: 0.9436 - val_loss: 0.9333 - val_acc: 0.8100\n",
      "2246/2246 [==============================] - 0s 62us/step\n"
     ]
    }
   ],
   "source": [
    "model = models.Sequential()\n",
    "model.add(layers.Dense(32, activation='relu', input_shape=(10000,)))\n",
    "model.add(layers.Dense(32, activation='relu'))\n",
    "model.add(layers.Dense(46, activation='softmax'))\n",
    "model.compile(optimizer='rmsprop',loss='categorical_crossentropy',metrics=['accuracy'])\n",
    "model.fit(partial_x_train,partial_y_train,epochs=9,batch_size=128,validation_data=(x_val, y_val))\n",
    "smaller_results = model.evaluate(x_test,one_hot_test_labels)"
   ]
  },
  {
   "cell_type": "code",
   "execution_count": 40,
   "metadata": {},
   "outputs": [
    {
     "data": {
      "text/plain": [
       "[1.0783929826952152, 0.7804986642920748]"
      ]
     },
     "execution_count": 40,
     "metadata": {},
     "output_type": "execute_result"
    }
   ],
   "source": [
    "smaller_results#低了1个百分点"
   ]
  },
  {
   "cell_type": "markdown",
   "metadata": {},
   "source": [
    "实验三：更少的网络层"
   ]
  },
  {
   "cell_type": "code",
   "execution_count": 41,
   "metadata": {},
   "outputs": [
    {
     "name": "stdout",
     "output_type": "stream",
     "text": [
      "Train on 7982 samples, validate on 1000 samples\n",
      "Epoch 1/9\n",
      "7982/7982 [==============================] - 1s 124us/step - loss: 1.8895 - acc: 0.6465 - val_loss: 1.2433 - val_acc: 0.7310\n",
      "Epoch 2/9\n",
      "7982/7982 [==============================] - 1s 103us/step - loss: 0.9446 - acc: 0.8014 - val_loss: 0.9712 - val_acc: 0.8020\n",
      "Epoch 3/9\n",
      "7982/7982 [==============================] - 1s 102us/step - loss: 0.6404 - acc: 0.8702 - val_loss: 0.8705 - val_acc: 0.8220\n",
      "Epoch 4/9\n",
      "7982/7982 [==============================] - 1s 102us/step - loss: 0.4563 - acc: 0.9062 - val_loss: 0.8220 - val_acc: 0.8330\n",
      "Epoch 5/9\n",
      "7982/7982 [==============================] - 1s 101us/step - loss: 0.3399 - acc: 0.9281 - val_loss: 0.8024 - val_acc: 0.8330\n",
      "Epoch 6/9\n",
      "7982/7982 [==============================] - 1s 101us/step - loss: 0.2663 - acc: 0.9396 - val_loss: 0.8322 - val_acc: 0.8320\n",
      "Epoch 7/9\n",
      "7982/7982 [==============================] - 1s 102us/step - loss: 0.2168 - acc: 0.9468 - val_loss: 0.8335 - val_acc: 0.8260\n",
      "Epoch 8/9\n",
      "7982/7982 [==============================] - 1s 103us/step - loss: 0.1833 - acc: 0.9488 - val_loss: 0.8916 - val_acc: 0.8200\n",
      "Epoch 9/9\n",
      "7982/7982 [==============================] - 1s 103us/step - loss: 0.1632 - acc: 0.9523 - val_loss: 0.8886 - val_acc: 0.8190\n",
      "2246/2246 [==============================] - 0s 90us/step\n"
     ]
    }
   ],
   "source": [
    "model = models.Sequential()\n",
    "model.add(layers.Dense(64, activation='relu', input_shape=(10000,)))\n",
    "model.add(layers.Dense(46, activation='softmax'))\n",
    "model.compile(optimizer='rmsprop',loss='categorical_crossentropy',metrics=['accuracy'])\n",
    "model.fit(partial_x_train,partial_y_train,epochs=9,batch_size=128,validation_data=(x_val, y_val))\n",
    "more_results = model.evaluate(x_test,one_hot_test_labels)"
   ]
  },
  {
   "cell_type": "code",
   "execution_count": 42,
   "metadata": {},
   "outputs": [
    {
     "data": {
      "text/plain": [
       "[1.0033855682383237, 0.7938557435440784]"
      ]
     },
     "execution_count": 42,
     "metadata": {},
     "output_type": "execute_result"
    }
   ],
   "source": [
    "more_results# 准确率高了0.1个百分点----奇怪"
   ]
  },
  {
   "cell_type": "markdown",
   "metadata": {},
   "source": [
    "实验四：更多的网络层"
   ]
  },
  {
   "cell_type": "code",
   "execution_count": 44,
   "metadata": {},
   "outputs": [
    {
     "name": "stdout",
     "output_type": "stream",
     "text": [
      "Train on 7982 samples, validate on 1000 samples\n",
      "Epoch 1/9\n",
      "7982/7982 [==============================] - 1s 128us/step - loss: 1.8566 - acc: 0.6104 - val_loss: 1.2719 - val_acc: 0.7050\n",
      "Epoch 2/9\n",
      "7982/7982 [==============================] - 1s 94us/step - loss: 1.0129 - acc: 0.7641 - val_loss: 1.0344 - val_acc: 0.7640\n",
      "Epoch 3/9\n",
      "7982/7982 [==============================] - 1s 96us/step - loss: 0.6771 - acc: 0.8472 - val_loss: 0.9515 - val_acc: 0.7960\n",
      "Epoch 4/9\n",
      "7982/7982 [==============================] - 1s 100us/step - loss: 0.4603 - acc: 0.8980 - val_loss: 0.9013 - val_acc: 0.8160\n",
      "Epoch 5/9\n",
      "7982/7982 [==============================] - 1s 99us/step - loss: 0.3318 - acc: 0.9276 - val_loss: 0.9657 - val_acc: 0.8040\n",
      "Epoch 6/9\n",
      "7982/7982 [==============================] - 1s 102us/step - loss: 0.2536 - acc: 0.9415 - val_loss: 1.0266 - val_acc: 0.8020\n",
      "Epoch 7/9\n",
      "7982/7982 [==============================] - 1s 105us/step - loss: 0.2077 - acc: 0.9504 - val_loss: 1.1455 - val_acc: 0.7880\n",
      "Epoch 8/9\n",
      "7982/7982 [==============================] - 1s 100us/step - loss: 0.1901 - acc: 0.9516 - val_loss: 1.0905 - val_acc: 0.8150\n",
      "Epoch 9/9\n",
      "7982/7982 [==============================] - 1s 99us/step - loss: 0.1663 - acc: 0.9530 - val_loss: 1.0551 - val_acc: 0.8030\n",
      "2246/2246 [==============================] - 0s 90us/step\n"
     ]
    }
   ],
   "source": [
    "model = models.Sequential()\n",
    "model.add(layers.Dense(64, activation='relu', input_shape=(10000,)))\n",
    "model.add(layers.Dense(64,activation='relu'))\n",
    "model.add(layers.Dense(64,activation='relu'))\n",
    "model.add(layers.Dense(46, activation='softmax'))\n",
    "model.compile(optimizer='rmsprop',loss='categorical_crossentropy',metrics=['accuracy'])\n",
    "model.fit(partial_x_train,partial_y_train,epochs=9,batch_size=128,validation_data=(x_val, y_val))\n",
    "less_results = model.evaluate(x_test,one_hot_test_labels)"
   ]
  },
  {
   "cell_type": "code",
   "execution_count": 45,
   "metadata": {},
   "outputs": [
    {
     "data": {
      "text/plain": [
       "[1.200872304496867, 0.7818343722703515]"
      ]
     },
     "execution_count": 45,
     "metadata": {},
     "output_type": "execute_result"
    }
   ],
   "source": [
    "less_results # 准确率低了1个百分点--WO，更奇怪了"
   ]
  },
  {
   "cell_type": "code",
   "execution_count": null,
   "metadata": {},
   "outputs": [],
   "source": []
  }
 ],
 "metadata": {
  "kernelspec": {
   "display_name": "Python 3",
   "language": "python",
   "name": "python3"
  },
  "language_info": {
   "codemirror_mode": {
    "name": "ipython",
    "version": 3
   },
   "file_extension": ".py",
   "mimetype": "text/x-python",
   "name": "python",
   "nbconvert_exporter": "python",
   "pygments_lexer": "ipython3",
   "version": "3.6.5"
  }
 },
 "nbformat": 4,
 "nbformat_minor": 2
}
