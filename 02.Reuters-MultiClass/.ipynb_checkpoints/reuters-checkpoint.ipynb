{
 "cells": [
  {
   "cell_type": "markdown",
   "metadata": {},
   "source": [
    "# 任务\n",
    "\n",
    "任务: 新闻文本分类,类别数目为46.\n",
    "\n",
    "数据集: 数据集包含有来自于路透社的11228条新闻数据，被标记了超过46个分类。和IMDB数据集一样，每一条数据被编码为一条索引序列。"
   ]
  },
  {
   "cell_type": "markdown",
   "metadata": {},
   "source": [
    "### 加载模块"
   ]
  },
  {
   "cell_type": "code",
   "execution_count": 1,
   "metadata": {},
   "outputs": [
    {
     "name": "stderr",
     "output_type": "stream",
     "text": [
      "Using TensorFlow backend.\n"
     ]
    }
   ],
   "source": [
    "from keras.datasets import reuters\n",
    "from keras import models\n",
    "from keras import layers\n",
    "from keras.utils.np_utils import to_categorical\n",
    "\n",
    "import numpy as np\n",
    "import matplotlib.pyplot as plt\n",
    "%matplotlib inline"
   ]
  },
  {
   "cell_type": "markdown",
   "metadata": {},
   "source": [
    "### 加载数据集"
   ]
  },
  {
   "cell_type": "code",
   "execution_count": 3,
   "metadata": {},
   "outputs": [],
   "source": [
    "#加载reuters数据集,取前10000个词\n",
    "(train_data,train_labels),(test_data,test_labels) = reuters.load_data(num_words=10000)"
   ]
  },
  {
   "cell_type": "markdown",
   "metadata": {},
   "source": [
    "观察数据集: 数据集shape, 每条语句格式"
   ]
  },
  {
   "cell_type": "code",
   "execution_count": 4,
   "metadata": {},
   "outputs": [
    {
     "name": "stdout",
     "output_type": "stream",
     "text": [
      "8982 2246\n"
     ]
    }
   ],
   "source": [
    "print(len(train_data),len(test_data))"
   ]
  },
  {
   "cell_type": "code",
   "execution_count": 5,
   "metadata": {},
   "outputs": [
    {
     "name": "stdout",
     "output_type": "stream",
     "text": [
      "[1, 2, 2, 8, 43, 10, 447, 5, 25, 207, 270, 5, 3095, 111, 16, 369, 186, 90, 67, 7, 89, 5, 19, 102, 6, 19, 124, 15, 90, 67, 84, 22, 482, 26, 7, 48, 4, 49, 8, 864, 39, 209, 154, 6, 151, 6, 83, 11, 15, 22, 155, 11, 15, 7, 48, 9, 4579, 1005, 504, 6, 258, 6, 272, 11, 15, 22, 134, 44, 11, 15, 16, 8, 197, 1245, 90, 67, 52, 29, 209, 30, 32, 132, 6, 109, 15, 17, 12]\n"
     ]
    }
   ],
   "source": [
    "print(train_data[0])#数字化"
   ]
  },
  {
   "cell_type": "markdown",
   "metadata": {},
   "source": [
    "数据集中每条语句由:词典中词的index组成."
   ]
  },
  {
   "cell_type": "markdown",
   "metadata": {},
   "source": [
    "想办法将转换后的数字表示逆向化，得到原始文本内容；"
   ]
  },
  {
   "cell_type": "code",
   "execution_count": 6,
   "metadata": {},
   "outputs": [],
   "source": [
    "word_index = reuters.get_word_index()# 单词--下标 对应字典\n",
    "index_word = dict([(val,key) for (key,val) in word_index.items()])\n",
    "\n",
    "def getOriSeq(data, index):\n",
    "    origin_seq = ' '.join([index_word.get(i - 3, '?') for i in data[index]])\n",
    "    return origin_seq"
   ]
  },
  {
   "cell_type": "code",
   "execution_count": 7,
   "metadata": {},
   "outputs": [
    {
     "name": "stdout",
     "output_type": "stream",
     "text": [
      "? ? ? said as a result of its december acquisition of space co it expects earnings per share in 1987 of 1 15 to 1 30 dlrs per share up from 70 cts in 1986 the company said pretax net should rise to nine to 10 mln dlrs from six mln dlrs in 1986 and rental operation revenues to 19 to 22 mln dlrs from 12 5 mln dlrs it said cash flow per share this year should be 2 50 to three dlrs reuter 3\n"
     ]
    }
   ],
   "source": [
    "# 查看训练集中第一条语句的内容\n",
    "train1_seq = getOriSeq(train_data, 0)\n",
    "print(train1_seq)"
   ]
  },
  {
   "cell_type": "code",
   "execution_count": 8,
   "metadata": {},
   "outputs": [
    {
     "data": {
      "text/plain": [
       "list"
      ]
     },
     "execution_count": 8,
     "metadata": {},
     "output_type": "execute_result"
    }
   ],
   "source": [
    "type(train_data[0])"
   ]
  },
  {
   "cell_type": "markdown",
   "metadata": {},
   "source": [
    "### 数据集处理\n",
    "\n",
    "转换成tensor形式: 当前每句话格式为list形式, 转换成numpy形式.\n",
    "\n",
    "#### 训练集，测试集转换"
   ]
  },
  {
   "cell_type": "code",
   "execution_count": 10,
   "metadata": {},
   "outputs": [],
   "source": [
    "#数据处理--向量化: 词袋模型\n",
    "def vectorize_sequences(sequences, dimension=10000):\n",
    "    results = np.zeros((len(sequences),dimension))\n",
    "    for i, sequence in enumerate(sequences):\n",
    "        results[i, sequence] = 1.\n",
    "    return results"
   ]
  },
  {
   "cell_type": "code",
   "execution_count": 11,
   "metadata": {},
   "outputs": [],
   "source": [
    "# 训练集,测试集转换\n",
    "x_train = vectorize_sequences(train_data)\n",
    "x_test = vectorize_sequences(test_data)"
   ]
  },
  {
   "cell_type": "markdown",
   "metadata": {},
   "source": [
    "#### 标签转换\n",
    "\n",
    "标签处理有两种方法：\n",
    "1. one-hot编码(categorical encoding)；\n",
    "2. 直接转换成数字向量；"
   ]
  },
  {
   "cell_type": "markdown",
   "metadata": {},
   "source": [
    "#### one-hot处理"
   ]
  },
  {
   "cell_type": "code",
   "execution_count": 12,
   "metadata": {},
   "outputs": [],
   "source": [
    "# one-hot: 每个类别变成46维,哪个维度为1表示语句的所属类别\n",
    "def to_one_hot(labels, dimension=46):# 46个类别\n",
    "    results = np.zeros((len(labels), dimension))\n",
    "    for i, label in enumerate(labels):\n",
    "        results[i, label] = 1.\n",
    "    return results\n",
    "\n",
    "one_hot_train_labels = to_one_hot(train_labels)\n",
    "one_hot_test_labels = to_one_hot(test_labels)"
   ]
  },
  {
   "cell_type": "code",
   "execution_count": 13,
   "metadata": {},
   "outputs": [
    {
     "data": {
      "text/plain": [
       "array([0., 0., 0., 1., 0., 0., 0., 0., 0., 0., 0., 0., 0., 0., 0., 0., 0.,\n",
       "       0., 0., 0., 0., 0., 0., 0., 0., 0., 0., 0., 0., 0., 0., 0., 0., 0.,\n",
       "       0., 0., 0., 0., 0., 0., 0., 0., 0., 0., 0., 0.])"
      ]
     },
     "execution_count": 13,
     "metadata": {},
     "output_type": "execute_result"
    }
   ],
   "source": [
    "# 查看转换后的标签:第一个标签\n",
    "one_hot_train_labels[0]"
   ]
  },
  {
   "cell_type": "markdown",
   "metadata": {},
   "source": [
    "**使用keras自带的函数转换**,也是one-hot转换."
   ]
  },
  {
   "cell_type": "code",
   "execution_count": 14,
   "metadata": {},
   "outputs": [],
   "source": [
    "from keras.utils.np_utils import to_categorical\n",
    "\n",
    "one_hot_train_labels = to_categorical(train_labels)\n",
    "one_hot_test_labels = to_categorical(test_labels)"
   ]
  },
  {
   "cell_type": "markdown",
   "metadata": {},
   "source": [
    "## 模型定义\n",
    "\n",
    "定义数据处理过程."
   ]
  },
  {
   "cell_type": "code",
   "execution_count": 15,
   "metadata": {},
   "outputs": [],
   "source": [
    "model = models.Sequential()\n",
    "\n",
    "model.add(layers.Dense(64,activation='relu',input_shape=(10000,)))\n",
    "model.add(layers.Dense(64,activation='relu'))\n",
    "# 输出单元有46个,对应46个类别\n",
    "model.add(layers.Dense(46,activation='softmax'))"
   ]
  },
  {
   "cell_type": "markdown",
   "metadata": {},
   "source": [
    "### 数据集划分\n",
    "\n",
    "划分验证集,训练过程中进行验证."
   ]
  },
  {
   "cell_type": "code",
   "execution_count": 16,
   "metadata": {},
   "outputs": [],
   "source": [
    "# 取前1000条语句, train数据集一共就8982条\n",
    "x_val = x_train[:1000]\n",
    "partial_x_train = x_train[1000:]\n",
    "\n",
    "y_val = one_hot_train_labels[:1000]\n",
    "partial_y_train = one_hot_train_labels[1000:]"
   ]
  },
  {
   "cell_type": "markdown",
   "metadata": {},
   "source": [
    "### 模型编译\n",
    "\n",
    "指定优化算法,loss函数,评测指标;\n",
    "\n",
    "多分类loss函数一般为categorical_crossentropy."
   ]
  },
  {
   "cell_type": "code",
   "execution_count": 17,
   "metadata": {},
   "outputs": [],
   "source": [
    "# 模型训练\n",
    "model.compile(optimizer='rmsprop',loss='categorical_crossentropy',metrics=['acc'])"
   ]
  },
  {
   "cell_type": "markdown",
   "metadata": {},
   "source": [
    "## 模型训练\n",
    "\n",
    "指定训练数据,epoch,batch_size以及可选的验证集[()指定]."
   ]
  },
  {
   "cell_type": "code",
   "execution_count": 18,
   "metadata": {},
   "outputs": [
    {
     "name": "stdout",
     "output_type": "stream",
     "text": [
      "Train on 7982 samples, validate on 1000 samples\n",
      "Epoch 1/20\n",
      "7982/7982 [==============================] - 1s 170us/step - loss: 2.5322 - acc: 0.4955 - val_loss: 1.7208 - val_acc: 0.6120\n",
      "Epoch 2/20\n",
      "7982/7982 [==============================] - 1s 72us/step - loss: 1.4452 - acc: 0.6879 - val_loss: 1.3459 - val_acc: 0.7060\n",
      "Epoch 3/20\n",
      "7982/7982 [==============================] - 1s 77us/step - loss: 1.0953 - acc: 0.7651 - val_loss: 1.1708 - val_acc: 0.7430\n",
      "Epoch 4/20\n",
      "7982/7982 [==============================] - 1s 76us/step - loss: 0.8697 - acc: 0.8165 - val_loss: 1.0793 - val_acc: 0.7590\n",
      "Epoch 5/20\n",
      "7982/7982 [==============================] - 1s 77us/step - loss: 0.7034 - acc: 0.8472 - val_loss: 0.9844 - val_acc: 0.7810\n",
      "Epoch 6/20\n",
      "7982/7982 [==============================] - 1s 80us/step - loss: 0.5667 - acc: 0.8802 - val_loss: 0.9411 - val_acc: 0.8040\n",
      "Epoch 7/20\n",
      "7982/7982 [==============================] - 1s 77us/step - loss: 0.4581 - acc: 0.9048 - val_loss: 0.9083 - val_acc: 0.8020\n",
      "Epoch 8/20\n",
      "7982/7982 [==============================] - 1s 72us/step - loss: 0.3695 - acc: 0.9231 - val_loss: 0.9363 - val_acc: 0.7890\n",
      "Epoch 9/20\n",
      "7982/7982 [==============================] - 1s 72us/step - loss: 0.3032 - acc: 0.9315 - val_loss: 0.8917 - val_acc: 0.8090\n",
      "Epoch 10/20\n",
      "7982/7982 [==============================] - 1s 79us/step - loss: 0.2537 - acc: 0.9414 - val_loss: 0.9071 - val_acc: 0.8110\n",
      "Epoch 11/20\n",
      "7982/7982 [==============================] - 1s 75us/step - loss: 0.2187 - acc: 0.9471 - val_loss: 0.9177 - val_acc: 0.8130\n",
      "Epoch 12/20\n",
      "7982/7982 [==============================] - 1s 77us/step - loss: 0.1873 - acc: 0.9508 - val_loss: 0.9027 - val_acc: 0.8130\n",
      "Epoch 13/20\n",
      "7982/7982 [==============================] - 1s 77us/step - loss: 0.1703 - acc: 0.9521 - val_loss: 0.9323 - val_acc: 0.8110\n",
      "Epoch 14/20\n",
      "7982/7982 [==============================] - 1s 72us/step - loss: 0.1536 - acc: 0.9553 - val_loss: 0.9689 - val_acc: 0.8050\n",
      "Epoch 15/20\n",
      "7982/7982 [==============================] - 1s 71us/step - loss: 0.1389 - acc: 0.9560 - val_loss: 0.9684 - val_acc: 0.8160\n",
      "Epoch 16/20\n",
      "7982/7982 [==============================] - 1s 72us/step - loss: 0.1314 - acc: 0.9558 - val_loss: 1.0218 - val_acc: 0.8060\n",
      "Epoch 17/20\n",
      "7982/7982 [==============================] - 1s 72us/step - loss: 0.1217 - acc: 0.9580 - val_loss: 1.0249 - val_acc: 0.7970\n",
      "Epoch 18/20\n",
      "7982/7982 [==============================] - 1s 73us/step - loss: 0.1198 - acc: 0.9584 - val_loss: 1.0429 - val_acc: 0.8070\n",
      "Epoch 19/20\n",
      "7982/7982 [==============================] - 1s 76us/step - loss: 0.1137 - acc: 0.9595 - val_loss: 1.0964 - val_acc: 0.7970\n",
      "Epoch 20/20\n",
      "7982/7982 [==============================] - 1s 77us/step - loss: 0.1111 - acc: 0.9592 - val_loss: 1.0685 - val_acc: 0.8010\n"
     ]
    }
   ],
   "source": [
    "history = model.fit(partial_x_train,partial_y_train,epochs=20,\\\n",
    "                    batch_size=512,validation_data=(x_val,y_val))"
   ]
  },
  {
   "cell_type": "markdown",
   "metadata": {},
   "source": [
    "## 首次训练之后\n",
    "\n",
    "观测训练过程,发现训练过程中可能出现的问题,调整,重新训练."
   ]
  },
  {
   "cell_type": "markdown",
   "metadata": {},
   "source": [
    "画图观察损失函数变化以及准确率变化情况"
   ]
  },
  {
   "cell_type": "code",
   "execution_count": 19,
   "metadata": {},
   "outputs": [
    {
     "data": {
      "image/png": "[encoded data removed]",
      "text/plain": [
       "<Figure size 432x288 with 1 Axes>"
      ]
     },
     "metadata": {
      "needs_background": "light"
     },
     "output_type": "display_data"
    }
   ],
   "source": [
    "# 损失函数变化\n",
    "train_loss = history.history['loss']\n",
    "val_loss = history.history['val_loss']\n",
    "\n",
    "epochs = range(1,len(train_loss)+1)\n",
    "plt.plot(epochs,train_loss,'b',label='Training loss')\n",
    "plt.plot(epochs,val_loss,'bo',label='Validation loss')\n",
    "plt.title('Training and Validation loss')\n",
    "plt.xlabel('Epochs')\n",
    "plt.ylabel('loss')\n",
    "plt.legend()\n",
    "\n",
    "plt.show()"
   ]
  },
  {
   "cell_type": "markdown",
   "metadata": {},
   "source": [
    "训练集loss随着epoch数目增加,loss逐渐降低,符合预期;验证集loss随着epoch增加,先降低,然后稳定,保持不变.\n",
    "\n",
    "验证集loss和训练集loss之间的差距较大,可能发生过拟合现象."
   ]
  },
  {
   "cell_type": "markdown",
   "metadata": {},
   "source": [
    "**观察准确率变化**"
   ]
  },
  {
   "cell_type": "code",
   "execution_count": 20,
   "metadata": {},
   "outputs": [
    {
     "data": {
      "image/png": "[encoded data removed]",
      "text/plain": [
       "<Figure size 432x288 with 1 Axes>"
      ]
     },
     "metadata": {
      "needs_background": "light"
     },
     "output_type": "display_data"
    }
   ],
   "source": [
    "# 准确率变化\n",
    "plt.clf()\n",
    "train_acc = history.history['acc']\n",
    "val_acc = history.history['val_acc']\n",
    "\n",
    "epochs = range(1,len(train_acc)+1)\n",
    "\n",
    "plt.plot(epochs,train_acc,'b',label='Training accuracy')\n",
    "plt.plot(epochs,val_acc,'bo',label='Validation accuracy')\n",
    "plt.title('Training & Validation accuracy')\n",
    "plt.xlabel('Epochs')\n",
    "plt.ylabel('Accuarcy')\n",
    "plt.legend()\n",
    "\n",
    "plt.show()"
   ]
  },
  {
   "cell_type": "markdown",
   "metadata": {},
   "source": [
    "训练集准确率和验证集准确率之间的差距随着epoch增加逐渐增大. 从第9个epochs开始模型,验证集准确率趋于稳定.可以确定发生过拟合现象。提前终止,来处理过拟合. 让epochs=9，重新训练模型。"
   ]
  },
  {
   "cell_type": "code",
   "execution_count": 21,
   "metadata": {},
   "outputs": [
    {
     "name": "stdout",
     "output_type": "stream",
     "text": [
      "Epoch 1/9\n",
      "8982/8982 [==============================] - 1s 80us/step - loss: 2.4437 - acc: 0.5332\n",
      "Epoch 2/9\n",
      "8982/8982 [==============================] - 1s 69us/step - loss: 1.3241 - acc: 0.7161\n",
      "Epoch 3/9\n",
      "8982/8982 [==============================] - 1s 68us/step - loss: 0.9744 - acc: 0.7869\n",
      "Epoch 4/9\n",
      "8982/8982 [==============================] - 1s 68us/step - loss: 0.7565 - acc: 0.8390\n",
      "Epoch 5/9\n",
      "8982/8982 [==============================] - 1s 69us/step - loss: 0.5963 - acc: 0.8764\n",
      "Epoch 6/9\n",
      "8982/8982 [==============================] - 1s 69us/step - loss: 0.4751 - acc: 0.9009\n",
      "Epoch 7/9\n",
      "8982/8982 [==============================] - 1s 68us/step - loss: 0.3831 - acc: 0.9175\n",
      "Epoch 8/9\n",
      "8982/8982 [==============================] - 1s 70us/step - loss: 0.3076 - acc: 0.9348\n",
      "Epoch 9/9\n",
      "8982/8982 [==============================] - 1s 73us/step - loss: 0.2591 - acc: 0.9414\n",
      "2246/2246 [==============================] - 0s 98us/step\n"
     ]
    }
   ],
   "source": [
    "# 重新训练\n",
    "model = models.Sequential()\n",
    "\n",
    "model.add(layers.Dense(64, activation='relu', input_shape=(10000,)))\n",
    "model.add(layers.Dense(64, activation='relu'))\n",
    "model.add(layers.Dense(46, activation='softmax'))\n",
    "\n",
    "model.compile(optimizer='rmsprop',loss='categorical_crossentropy',metrics=['accuracy'])\n",
    "# 不指定验证集\n",
    "model.fit(x_train,one_hot_train_labels,epochs=9,batch_size=512)\n",
    "\n",
    "results = model.evaluate(x_test, one_hot_test_labels)"
   ]
  },
  {
   "cell_type": "code",
   "execution_count": 22,
   "metadata": {},
   "outputs": [
    {
     "data": {
      "text/plain": [
       "[0.9800226720230768, 0.7902938557966204]"
      ]
     },
     "execution_count": 22,
     "metadata": {},
     "output_type": "execute_result"
    }
   ],
   "source": [
    "results"
   ]
  },
  {
   "cell_type": "markdown",
   "metadata": {},
   "source": [
    "准确率为79.0%"
   ]
  },
  {
   "cell_type": "markdown",
   "metadata": {},
   "source": [
    "## 其他实验"
   ]
  },
  {
   "cell_type": "markdown",
   "metadata": {},
   "source": [
    "测试实验一：使用更大的神经元 128"
   ]
  },
  {
   "cell_type": "code",
   "execution_count": 23,
   "metadata": {},
   "outputs": [
    {
     "name": "stdout",
     "output_type": "stream",
     "text": [
      "Train on 7982 samples, validate on 1000 samples\n",
      "Epoch 1/20\n",
      "7982/7982 [==============================] - 1s 130us/step - loss: 2.1361 - acc: 0.5826 - val_loss: 1.3860 - val_acc: 0.6930\n",
      "Epoch 2/20\n",
      "7982/7982 [==============================] - 1s 99us/step - loss: 1.0770 - acc: 0.7690 - val_loss: 1.0795 - val_acc: 0.7710\n",
      "Epoch 3/20\n",
      "7982/7982 [==============================] - 1s 89us/step - loss: 0.7405 - acc: 0.8455 - val_loss: 0.9623 - val_acc: 0.7960\n",
      "Epoch 4/20\n",
      "7982/7982 [==============================] - 1s 89us/step - loss: 0.5409 - acc: 0.8869 - val_loss: 0.9047 - val_acc: 0.8030\n",
      "Epoch 5/20\n",
      "7982/7982 [==============================] - 1s 95us/step - loss: 0.3990 - acc: 0.9176 - val_loss: 0.8918 - val_acc: 0.8180\n",
      "Epoch 6/20\n",
      "7982/7982 [==============================] - 1s 89us/step - loss: 0.2991 - acc: 0.9369 - val_loss: 0.8507 - val_acc: 0.8260\n",
      "Epoch 7/20\n",
      "7982/7982 [==============================] - 1s 89us/step - loss: 0.2476 - acc: 0.9434 - val_loss: 0.9051 - val_acc: 0.8090\n",
      "Epoch 8/20\n",
      "7982/7982 [==============================] - 1s 90us/step - loss: 0.1975 - acc: 0.9489 - val_loss: 0.9741 - val_acc: 0.8010\n",
      "Epoch 9/20\n",
      "7982/7982 [==============================] - 1s 89us/step - loss: 0.1754 - acc: 0.9511 - val_loss: 0.9441 - val_acc: 0.8110\n",
      "Epoch 10/20\n",
      "7982/7982 [==============================] - 1s 95us/step - loss: 0.1616 - acc: 0.9543 - val_loss: 0.9385 - val_acc: 0.8180\n",
      "Epoch 11/20\n",
      "7982/7982 [==============================] - 1s 91us/step - loss: 0.1443 - acc: 0.9540 - val_loss: 0.9564 - val_acc: 0.8210\n",
      "Epoch 12/20\n",
      "7982/7982 [==============================] - 1s 89us/step - loss: 0.1373 - acc: 0.9551 - val_loss: 1.0422 - val_acc: 0.7930\n",
      "Epoch 13/20\n",
      "7982/7982 [==============================] - 1s 89us/step - loss: 0.1296 - acc: 0.9545 - val_loss: 0.9790 - val_acc: 0.8170\n",
      "Epoch 14/20\n",
      "7982/7982 [==============================] - 1s 95us/step - loss: 0.1231 - acc: 0.9583 - val_loss: 1.0744 - val_acc: 0.7950\n",
      "Epoch 15/20\n",
      "7982/7982 [==============================] - 1s 88us/step - loss: 0.1176 - acc: 0.9584 - val_loss: 1.0562 - val_acc: 0.7950\n",
      "Epoch 16/20\n",
      "7982/7982 [==============================] - 1s 89us/step - loss: 0.1198 - acc: 0.9570 - val_loss: 1.0757 - val_acc: 0.7990\n",
      "Epoch 17/20\n",
      "7982/7982 [==============================] - 1s 94us/step - loss: 0.1133 - acc: 0.9569 - val_loss: 1.0454 - val_acc: 0.8110\n",
      "Epoch 18/20\n",
      "7982/7982 [==============================] - 1s 91us/step - loss: 0.1073 - acc: 0.9569 - val_loss: 1.0897 - val_acc: 0.8060\n",
      "Epoch 19/20\n",
      "7982/7982 [==============================] - 1s 93us/step - loss: 0.1082 - acc: 0.9583 - val_loss: 1.0310 - val_acc: 0.8090\n",
      "Epoch 20/20\n",
      "7982/7982 [==============================] - 1s 93us/step - loss: 0.1035 - acc: 0.9568 - val_loss: 1.0377 - val_acc: 0.8140\n"
     ]
    }
   ],
   "source": [
    "model = models.Sequential()\n",
    "\n",
    "model.add(layers.Dense(128, activation='relu', input_shape=(10000,)))\n",
    "model.add(layers.Dense(128, activation='relu'))\n",
    "model.add(layers.Dense(46, activation='softmax'))\n",
    "\n",
    "model.compile(optimizer='rmsprop',loss='categorical_crossentropy',metrics=['accuracy'])\n",
    "history = model.fit(partial_x_train,partial_y_train,epochs=20,batch_size=512,validation_data=(x_val,y_val))"
   ]
  },
  {
   "cell_type": "code",
   "execution_count": 24,
   "metadata": {},
   "outputs": [
    {
     "data": {
      "image/png": "[encoded data removed]",
      "text/plain": [
       "<Figure size 432x288 with 1 Axes>"
      ]
     },
     "metadata": {
      "needs_background": "light"
     },
     "output_type": "display_data"
    }
   ],
   "source": [
    "plt.clf()\n",
    "train_acc = history.history['acc']\n",
    "val_acc = history.history['val_acc']\n",
    "epochs = range(1,len(train_acc)+1)\n",
    "\n",
    "plt.plot(epochs,train_acc,'b',label='Training accuracy')\n",
    "plt.plot(epochs,val_acc,'bo',label='Validation accuracy')\n",
    "plt.title('Training & Validation accuracy')\n",
    "plt.xlabel('Epochs')\n",
    "plt.ylabel('Accuarcy')\n",
    "plt.legend()\n",
    "\n",
    "plt.show()"
   ]
  },
  {
   "cell_type": "markdown",
   "metadata": {},
   "source": [
    "同样,发生过拟合现象."
   ]
  },
  {
   "cell_type": "markdown",
   "metadata": {},
   "source": [
    "使用相同的epochs，在测试集上比较"
   ]
  },
  {
   "cell_type": "code",
   "execution_count": 25,
   "metadata": {},
   "outputs": [
    {
     "name": "stdout",
     "output_type": "stream",
     "text": [
      "Train on 7982 samples, validate on 1000 samples\n",
      "Epoch 1/9\n",
      "7982/7982 [==============================] - 1s 146us/step - loss: 1.5790 - acc: 0.6609 - val_loss: 1.1920 - val_acc: 0.7250\n",
      "Epoch 2/9\n",
      "7982/7982 [==============================] - 1s 124us/step - loss: 0.7680 - acc: 0.8341 - val_loss: 0.9639 - val_acc: 0.7830\n",
      "Epoch 3/9\n",
      "7982/7982 [==============================] - 1s 124us/step - loss: 0.4598 - acc: 0.9023 - val_loss: 0.8420 - val_acc: 0.8220\n",
      "Epoch 4/9\n",
      "7982/7982 [==============================] - 1s 125us/step - loss: 0.2981 - acc: 0.9332 - val_loss: 0.8434 - val_acc: 0.8270\n",
      "Epoch 5/9\n",
      "7982/7982 [==============================] - 1s 126us/step - loss: 0.2325 - acc: 0.9442 - val_loss: 0.8498 - val_acc: 0.8340\n",
      "Epoch 6/9\n",
      "7982/7982 [==============================] - 1s 125us/step - loss: 0.1904 - acc: 0.9499 - val_loss: 0.9768 - val_acc: 0.7970\n",
      "Epoch 7/9\n",
      "7982/7982 [==============================] - 1s 126us/step - loss: 0.1694 - acc: 0.9516 - val_loss: 0.9949 - val_acc: 0.8070\n",
      "Epoch 8/9\n",
      "7982/7982 [==============================] - 1s 131us/step - loss: 0.1558 - acc: 0.9540 - val_loss: 0.9436 - val_acc: 0.8060\n",
      "Epoch 9/9\n",
      "7982/7982 [==============================] - 1s 141us/step - loss: 0.1428 - acc: 0.9535 - val_loss: 0.9925 - val_acc: 0.8130\n",
      "2246/2246 [==============================] - 0s 104us/step\n"
     ]
    }
   ],
   "source": [
    "model = models.Sequential()\n",
    "model.add(layers.Dense(128, activation='relu', input_shape=(10000,)))\n",
    "model.add(layers.Dense(128, activation='relu'))\n",
    "model.add(layers.Dense(46, activation='softmax'))\n",
    "model.compile(optimizer='rmsprop',loss='categorical_crossentropy',metrics=['accuracy'])\n",
    "model.fit(partial_x_train,partial_y_train,epochs=9,batch_size=128,validation_data=(x_val, y_val))\n",
    "bigger_results = model.evaluate(x_test,one_hot_test_labels)"
   ]
  },
  {
   "cell_type": "code",
   "execution_count": 26,
   "metadata": {},
   "outputs": [
    {
     "data": {
      "text/plain": [
       "[1.1618072003630369, 0.7898486198215535]"
      ]
     },
     "execution_count": 26,
     "metadata": {},
     "output_type": "execute_result"
    }
   ],
   "source": [
    "bigger_results "
   ]
  },
  {
   "cell_type": "markdown",
   "metadata": {},
   "source": [
    "准确率相比之前,反而降低了0.1%. 常规情况下,神经元越多,网络层表示能力越强,这里显然不是这样."
   ]
  },
  {
   "cell_type": "markdown",
   "metadata": {},
   "source": [
    "实验二：使用更小的神经元：32个"
   ]
  },
  {
   "cell_type": "code",
   "execution_count": 27,
   "metadata": {},
   "outputs": [
    {
     "name": "stdout",
     "output_type": "stream",
     "text": [
      "Train on 7982 samples, validate on 1000 samples\n",
      "Epoch 1/9\n",
      "7982/7982 [==============================] - 1s 93us/step - loss: 2.3260 - acc: 0.5105 - val_loss: 1.5617 - val_acc: 0.6370\n",
      "Epoch 2/9\n",
      "7982/7982 [==============================] - 1s 74us/step - loss: 1.2783 - acc: 0.7169 - val_loss: 1.2145 - val_acc: 0.7290\n",
      "Epoch 3/9\n",
      "7982/7982 [==============================] - 1s 74us/step - loss: 0.9372 - acc: 0.8027 - val_loss: 1.0542 - val_acc: 0.7820\n",
      "Epoch 4/9\n",
      "7982/7982 [==============================] - 1s 76us/step - loss: 0.7231 - acc: 0.8455 - val_loss: 0.9773 - val_acc: 0.7920\n",
      "Epoch 5/9\n",
      "7982/7982 [==============================] - 1s 77us/step - loss: 0.5659 - acc: 0.8772 - val_loss: 0.9245 - val_acc: 0.8110\n",
      "Epoch 6/9\n",
      "7982/7982 [==============================] - 1s 75us/step - loss: 0.4414 - acc: 0.9009 - val_loss: 0.8955 - val_acc: 0.8180\n",
      "Epoch 7/9\n",
      "7982/7982 [==============================] - 1s 73us/step - loss: 0.3510 - acc: 0.9213 - val_loss: 0.9002 - val_acc: 0.8120\n",
      "Epoch 8/9\n",
      "7982/7982 [==============================] - 1s 73us/step - loss: 0.2851 - acc: 0.9370 - val_loss: 0.9823 - val_acc: 0.7950\n",
      "Epoch 9/9\n",
      "7982/7982 [==============================] - 1s 73us/step - loss: 0.2350 - acc: 0.9461 - val_loss: 0.9411 - val_acc: 0.8090\n",
      "2246/2246 [==============================] - 0s 52us/step\n"
     ]
    }
   ],
   "source": [
    "model = models.Sequential()\n",
    "model.add(layers.Dense(32, activation='relu', input_shape=(10000,)))\n",
    "model.add(layers.Dense(32, activation='relu'))\n",
    "model.add(layers.Dense(46, activation='softmax'))\n",
    "model.compile(optimizer='rmsprop',loss='categorical_crossentropy',metrics=['accuracy'])\n",
    "model.fit(partial_x_train,partial_y_train,epochs=9,batch_size=128,validation_data=(x_val, y_val))\n",
    "smaller_results = model.evaluate(x_test,one_hot_test_labels)"
   ]
  },
  {
   "cell_type": "code",
   "execution_count": 28,
   "metadata": {},
   "outputs": [
    {
     "data": {
      "text/plain": [
       "[1.0758861712016703, 0.7836153161706185]"
      ]
     },
     "execution_count": 28,
     "metadata": {},
     "output_type": "execute_result"
    }
   ],
   "source": [
    "smaller_results"
   ]
  },
  {
   "cell_type": "markdown",
   "metadata": {},
   "source": [
    "准确率低了0.7%左右, 低是可以预期的,网络层神经元越小,表示能力越弱."
   ]
  },
  {
   "cell_type": "markdown",
   "metadata": {},
   "source": [
    "实验三：更少的网络层"
   ]
  },
  {
   "cell_type": "code",
   "execution_count": 30,
   "metadata": {},
   "outputs": [
    {
     "name": "stdout",
     "output_type": "stream",
     "text": [
      "Train on 7982 samples, validate on 1000 samples\n",
      "Epoch 1/9\n",
      "7982/7982 [==============================] - 1s 99us/step - loss: 1.8347 - acc: 0.6399 - val_loss: 1.2238 - val_acc: 0.7320\n",
      "Epoch 2/9\n",
      "7982/7982 [==============================] - 1s 76us/step - loss: 0.9575 - acc: 0.7970 - val_loss: 0.9909 - val_acc: 0.7910\n",
      "Epoch 3/9\n",
      "7982/7982 [==============================] - 1s 76us/step - loss: 0.6534 - acc: 0.8662 - val_loss: 0.8865 - val_acc: 0.8010\n",
      "Epoch 4/9\n",
      "7982/7982 [==============================] - 1s 76us/step - loss: 0.4646 - acc: 0.9044 - val_loss: 0.8282 - val_acc: 0.8270\n",
      "Epoch 5/9\n",
      "7982/7982 [==============================] - 1s 76us/step - loss: 0.3442 - acc: 0.9250 - val_loss: 0.8269 - val_acc: 0.8290\n",
      "Epoch 6/9\n",
      "7982/7982 [==============================] - 1s 81us/step - loss: 0.2681 - acc: 0.9396 - val_loss: 0.8165 - val_acc: 0.8270\n",
      "Epoch 7/9\n",
      "7982/7982 [==============================] - 1s 79us/step - loss: 0.2172 - acc: 0.9456 - val_loss: 0.8409 - val_acc: 0.8280\n",
      "Epoch 8/9\n",
      "7982/7982 [==============================] - 1s 83us/step - loss: 0.1846 - acc: 0.9500 - val_loss: 0.8723 - val_acc: 0.8170\n",
      "Epoch 9/9\n",
      "7982/7982 [==============================] - 1s 85us/step - loss: 0.1632 - acc: 0.9533 - val_loss: 0.9047 - val_acc: 0.8150\n",
      "2246/2246 [==============================] - 0s 71us/step\n"
     ]
    }
   ],
   "source": [
    "model = models.Sequential()\n",
    "model.add(layers.Dense(64, activation='relu', input_shape=(10000,)))\n",
    "model.add(layers.Dense(46, activation='softmax'))\n",
    "model.compile(optimizer='rmsprop',loss='categorical_crossentropy',metrics=['accuracy'])\n",
    "model.fit(partial_x_train,partial_y_train,epochs=9,batch_size=128,validation_data=(x_val, y_val))\n",
    "more_results = model.evaluate(x_test,one_hot_test_labels)"
   ]
  },
  {
   "cell_type": "code",
   "execution_count": 31,
   "metadata": {},
   "outputs": [
    {
     "data": {
      "text/plain": [
       "[1.0184106323619242, 0.799198575297956]"
      ]
     },
     "execution_count": 31,
     "metadata": {},
     "output_type": "execute_result"
    }
   ],
   "source": [
    "more_results# 准确率高了0.1个百分点----奇怪"
   ]
  },
  {
   "cell_type": "markdown",
   "metadata": {},
   "source": [
    "准确率反而提高了0.9%, 过拟合现象过于严重了."
   ]
  },
  {
   "cell_type": "markdown",
   "metadata": {},
   "source": [
    "实验四：更多的网络层"
   ]
  },
  {
   "cell_type": "code",
   "execution_count": 32,
   "metadata": {},
   "outputs": [
    {
     "name": "stdout",
     "output_type": "stream",
     "text": [
      "Train on 7982 samples, validate on 1000 samples\n",
      "Epoch 1/9\n",
      "7982/7982 [==============================] - 1s 109us/step - loss: 1.8870 - acc: 0.6026 - val_loss: 1.2574 - val_acc: 0.7100\n",
      "Epoch 2/9\n",
      "7982/7982 [==============================] - 1s 78us/step - loss: 0.9738 - acc: 0.7815 - val_loss: 1.0076 - val_acc: 0.7830\n",
      "Epoch 3/9\n",
      "7982/7982 [==============================] - 1s 78us/step - loss: 0.6560 - acc: 0.8554 - val_loss: 0.9307 - val_acc: 0.8040\n",
      "Epoch 4/9\n",
      "7982/7982 [==============================] - 1s 80us/step - loss: 0.4548 - acc: 0.8996 - val_loss: 0.9475 - val_acc: 0.7990\n",
      "Epoch 5/9\n",
      "7982/7982 [==============================] - 1s 79us/step - loss: 0.3249 - acc: 0.9297 - val_loss: 1.0427 - val_acc: 0.7850\n",
      "Epoch 6/9\n",
      "7982/7982 [==============================] - 1s 79us/step - loss: 0.2519 - acc: 0.9439 - val_loss: 0.9832 - val_acc: 0.8080\n",
      "Epoch 7/9\n",
      "7982/7982 [==============================] - 1s 80us/step - loss: 0.2070 - acc: 0.9503 - val_loss: 1.1342 - val_acc: 0.7860\n",
      "Epoch 8/9\n",
      "7982/7982 [==============================] - 1s 87us/step - loss: 0.1811 - acc: 0.9524 - val_loss: 1.1062 - val_acc: 0.8000\n",
      "Epoch 9/9\n",
      "7982/7982 [==============================] - 1s 85us/step - loss: 0.1680 - acc: 0.9528 - val_loss: 1.1586 - val_acc: 0.7990\n",
      "2246/2246 [==============================] - 0s 71us/step\n"
     ]
    }
   ],
   "source": [
    "model = models.Sequential()\n",
    "model.add(layers.Dense(64, activation='relu', input_shape=(10000,)))\n",
    "model.add(layers.Dense(64,activation='relu'))\n",
    "model.add(layers.Dense(64,activation='relu'))\n",
    "model.add(layers.Dense(46, activation='softmax'))\n",
    "model.compile(optimizer='rmsprop',loss='categorical_crossentropy',metrics=['accuracy'])\n",
    "model.fit(partial_x_train,partial_y_train,epochs=9,batch_size=128,validation_data=(x_val, y_val))\n",
    "less_results = model.evaluate(x_test,one_hot_test_labels)"
   ]
  },
  {
   "cell_type": "code",
   "execution_count": 33,
   "metadata": {},
   "outputs": [
    {
     "data": {
      "text/plain": [
       "[1.3250713146698867, 0.7720391808188821]"
      ]
     },
     "execution_count": 33,
     "metadata": {},
     "output_type": "execute_result"
    }
   ],
   "source": [
    "less_results "
   ]
  },
  {
   "cell_type": "markdown",
   "metadata": {},
   "source": [
    "准确率最低,为77.2%,主要原因在于,训练集数据量小,迭代次数过多,模型发生过拟合."
   ]
  }
 ],
 "metadata": {
  "kernelspec": {
   "display_name": "Python 3",
   "language": "python",
   "name": "python3"
  },
  "language_info": {
   "codemirror_mode": {
    "name": "ipython",
    "version": 3
   },
   "file_extension": ".py",
   "mimetype": "text/x-python",
   "name": "python",
   "nbconvert_exporter": "python",
   "pygments_lexer": "ipython3",
   "version": "3.5.2"
  }
 },
 "nbformat": 4,
 "nbformat_minor": 2
}
