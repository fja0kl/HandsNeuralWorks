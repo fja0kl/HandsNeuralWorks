{
 "cells": [
  {
   "cell_type": "markdown",
   "metadata": {},
   "source": [
    "# IMDB 电影评论分类\n",
    "\n",
    "数据集介绍: IMDB数据集包含有2.5万条电影评论，被标记为积极和消极。影评会经过预处理，把每一条影评编码为一个词索引(数字)sequence。**为了方便起见，单词根据在整个数据集中的出现频率大小建立索引**，所以”3”就代表在数据中出现频率第三的单词。这样可以快速筛选出想要的结果，比如想要top10000，但是排除top20的单词。同时约定,数据集单词索引中\"0\", \"1\"和\"2\"是保留index,分别代表'padding','start of sequence'以及'unknown'.\n",
    "\n",
    "任务: IMDB电影评论数据分类,分类是二分类.\n",
    "\n",
    "工具：Keras."
   ]
  },
  {
   "cell_type": "markdown",
   "metadata": {},
   "source": [
    "## 导入模块"
   ]
  },
  {
   "cell_type": "code",
   "execution_count": 1,
   "metadata": {},
   "outputs": [
    {
     "name": "stderr",
     "output_type": "stream",
     "text": [
      "Using TensorFlow backend.\n"
     ]
    }
   ],
   "source": [
    "from keras.datasets import imdb\n",
    "from keras import models\n",
    "from keras import layers"
   ]
  },
  {
   "cell_type": "markdown",
   "metadata": {},
   "source": [
    "## 加载数据集\n",
    "\n",
    "数据集经过预处理,加载时设置词典长度,这里设置为10000,意思是选择词频较大的前10000个词,低频词被过滤掉.用这10000个词来表示语料."
   ]
  },
  {
   "cell_type": "code",
   "execution_count": 2,
   "metadata": {},
   "outputs": [],
   "source": [
    "#加载数据集\n",
    "(train_data,train_labels), (test_data,test_labels) = imdb.load_data(num_words=10000)"
   ]
  },
  {
   "cell_type": "code",
   "execution_count": 3,
   "metadata": {},
   "outputs": [
    {
     "name": "stdout",
     "output_type": "stream",
     "text": [
      "(25000,)\n"
     ]
    }
   ],
   "source": [
    "# 训练集shape\n",
    "print(train_data.shape)"
   ]
  },
  {
   "cell_type": "markdown",
   "metadata": {},
   "source": [
    "训练集中有25000条语句."
   ]
  },
  {
   "cell_type": "code",
   "execution_count": 4,
   "metadata": {},
   "outputs": [
    {
     "name": "stdout",
     "output_type": "stream",
     "text": [
      "[1, 14, 22, 16, 43, 530, 973, 1622, 1385, 65, 458, 4468, 66, 3941, 4, 173, 36, 256, 5, 25, 100, 43, 838, 112, 50, 670, 2, 9, 35, 480, 284, 5, 150, 4, 172, 112, 167, 2, 336, 385, 39, 4, 172, 4536, 1111, 17, 546, 38, 13, 447, 4, 192, 50, 16, 6, 147, 2025, 19, 14, 22, 4, 1920, 4613, 469, 4, 22, 71, 87, 12, 16, 43, 530, 38, 76, 15, 13, 1247, 4, 22, 17, 515, 17, 12, 16, 626, 18, 2, 5, 62, 386, 12, 8, 316, 8, 106, 5, 4, 2223, 5244, 16, 480, 66, 3785, 33, 4, 130, 12, 16, 38, 619, 5, 25, 124, 51, 36, 135, 48, 25, 1415, 33, 6, 22, 12, 215, 28, 77, 52, 5, 14, 407, 16, 82, 2, 8, 4, 107, 117, 5952, 15, 256, 4, 2, 7, 3766, 5, 723, 36, 71, 43, 530, 476, 26, 400, 317, 46, 7, 4, 2, 1029, 13, 104, 88, 4, 381, 15, 297, 98, 32, 2071, 56, 26, 141, 6, 194, 7486, 18, 4, 226, 22, 21, 134, 476, 26, 480, 5, 144, 30, 5535, 18, 51, 36, 28, 224, 92, 25, 104, 4, 226, 65, 16, 38, 1334, 88, 12, 16, 283, 5, 16, 4472, 113, 103, 32, 15, 16, 5345, 19, 178, 32]\n"
     ]
    }
   ],
   "source": [
    "print(train_data[0])"
   ]
  },
  {
   "cell_type": "markdown",
   "metadata": {},
   "source": [
    "每条语句格式:经过预处理,每句话由词典中的单词index组成."
   ]
  },
  {
   "cell_type": "code",
   "execution_count": 5,
   "metadata": {},
   "outputs": [
    {
     "name": "stdout",
     "output_type": "stream",
     "text": [
      "? this film was just brilliant casting location scenery story direction everyone's really suited the part they played and you could just imagine being there robert ? is an amazing actor and now the same being director ? father came from the same scottish island as myself so i loved the fact there was a real connection with this film the witty remarks throughout the film were great it was just brilliant so much that i bought the film as soon as it was released for ? and would recommend it to everyone to watch and the fly fishing was amazing really cried at the end it was so sad and you know what they say if you cry at a film it must have been good and this definitely was also ? to the two little boy's that played the ? of norman and paul they were just brilliant children are often left out of the ? list i think because the stars that play them all grown up are such a big profile for the whole film but these children are amazing and should be praised for what they have done don't you think the whole story was so lovely because it was true and was someone's life after all that was shared with us all\n"
     ]
    }
   ],
   "source": [
    "#得到单词-index对象关系\n",
    "word_index = imdb.get_word_index()\n",
    "#翻转,变成index-word对象关系\n",
    "reverse_word_index = dict(\n",
    "[(value, key) for (key, value) in word_index.items()])#得到 id-words 对应关系\n",
    "\n",
    "#得到raw data,原始文本内容\n",
    "def getOriSeq(data, index):\n",
    "    # 不在对应关系中的index用?代替\n",
    "    origin_seq = ' '.join(\n",
    "[reverse_word_index.get(i - 3, '?') for i in data[index]])\n",
    "    \n",
    "    return origin_seq\n",
    "\n",
    "#查看训练集train_data中第一条语句的原文\n",
    "ori_seq = getOriSeq(train_data, 0)\n",
    "print(ori_seq)"
   ]
  },
  {
   "cell_type": "markdown",
   "metadata": {},
   "source": [
    "## 将数据转换成tensor\n",
    "\n",
    "深度学习框架可以处理的数据集格式是tensor张量类型.\n",
    "\n",
    "将数据转换成tensor形式."
   ]
  },
  {
   "cell_type": "code",
   "execution_count": 6,
   "metadata": {},
   "outputs": [],
   "source": [
    "import numpy as np\n",
    "\n",
    "#设置dimension,每条语句长度为Dimension.\n",
    "def vectorize_squences(sequences,dimension=10000):\n",
    "    #将列表数据 numpy化，同时用词袋模型编码\n",
    "    results = np.zeros((len(sequences),dimension))\n",
    "    # sequence是一句话,list形式,numpy可以用list做index下标,取数据\n",
    "    for i,sequence in enumerate(sequences):\n",
    "        results[i,sequence] = 1\n",
    "    return results"
   ]
  },
  {
   "cell_type": "markdown",
   "metadata": {},
   "source": [
    "词袋模型介绍,可以看博客:[\n",
    "词袋模型BoW和词集模型SoW比较](https://blog.csdn.net/csdn0006/article/details/85221132)"
   ]
  },
  {
   "cell_type": "code",
   "execution_count": 7,
   "metadata": {},
   "outputs": [],
   "source": [
    "# 处理index表示的语句\n",
    "x_train = vectorize_squences(train_data)\n",
    "x_test = vectorize_squences(test_data)\n",
    "# 处理编码,转换成numpy形式\n",
    "y_train = np.asarray(train_labels).astype('float32')\n",
    "y_test = np.asarray(test_labels).astype('float32')"
   ]
  },
  {
   "cell_type": "markdown",
   "metadata": {},
   "source": [
    "## 定义深度学习网络模型\n",
    "\n",
    "通过定义深度学习模型架构,确定数据的处理过程."
   ]
  },
  {
   "cell_type": "code",
   "execution_count": 8,
   "metadata": {},
   "outputs": [],
   "source": [
    "# 网络类型\n",
    "model = models.Sequential()\n",
    "\n",
    "# 堆叠网络层,网络层定义了数据的处理过程:确定网络层神经元数目,激活函数以及数据shape,\n",
    "# 一般keras框架可以自动推导来确定,但是,输入层(第一层)需要显性设置输入数据的shape\n",
    "model.add(layers.Dense(16,activation='relu',input_shape=(10000,)))\n",
    "model.add(layers.Dense(16,activation='relu'))\n",
    "# 输出层,激活函数是sigmoid,将输出限制在(0, 1)内,可以理解为概率\n",
    "model.add(layers.Dense(1,activation='sigmoid'))"
   ]
  },
  {
   "cell_type": "markdown",
   "metadata": {},
   "source": [
    "## 编译过程\n",
    "\n",
    "设置网络优化方法,loss函数以及检测指标.\n",
    "\n",
    "优化方法:是指模型的训练方法,梯度下降,但是梯度下降又有各种变种,需要指明;\n",
    "\n",
    "loss函数:用来确定模型好坏,在反向传播过程中指导模型的训练;\n",
    "\n",
    "检测指标:用来确定模型好坏,一般越大越好."
   ]
  },
  {
   "cell_type": "code",
   "execution_count": 9,
   "metadata": {},
   "outputs": [],
   "source": [
    "# compile\n",
    "# 二分类,loss函数一般为binary_crossentropy,检测指标为准确率\n",
    "model.compile(optimizer='rmsprop',loss='binary_crossentropy',metrics=['accuracy'])"
   ]
  },
  {
   "cell_type": "markdown",
   "metadata": {},
   "source": [
    "将训练集划分,分为训练集和验证集,验证集在训练过程中用来评测训练模型的好坏.\n",
    "\n",
    "一般,不用训练集来评测,原因在于:训练集在训练过程中已经被使用,如果还用训练集来评测,会导致指标过于乐观,不能正确、客观的描述模型训练的好坏。"
   ]
  },
  {
   "cell_type": "code",
   "execution_count": 10,
   "metadata": {},
   "outputs": [],
   "source": [
    "x_val = x_train[:8000]\n",
    "y_val = y_train[:8000]\n",
    "partial_x_train = x_train[8000:]\n",
    "partial_y_train = y_train[8000:]"
   ]
  },
  {
   "cell_type": "markdown",
   "metadata": {},
   "source": [
    "## 训练\n",
    "\n",
    "指明训练集，训练label，epoch数目，batch_size大小，同时也可以设置验证集(验证集用括号设置)."
   ]
  },
  {
   "cell_type": "code",
   "execution_count": 11,
   "metadata": {},
   "outputs": [
    {
     "name": "stdout",
     "output_type": "stream",
     "text": [
      "Train on 17000 samples, validate on 8000 samples\n",
      "Epoch 1/10\n",
      "17000/17000 [==============================] - 2s 91us/step - loss: 0.5027 - acc: 0.7955 - val_loss: 0.3663 - val_acc: 0.8755\n",
      "Epoch 2/10\n",
      "17000/17000 [==============================] - 1s 72us/step - loss: 0.2906 - acc: 0.9060 - val_loss: 0.2969 - val_acc: 0.8885\n",
      "Epoch 3/10\n",
      "17000/17000 [==============================] - 1s 73us/step - loss: 0.2121 - acc: 0.9300 - val_loss: 0.2899 - val_acc: 0.8840\n",
      "Epoch 4/10\n",
      "17000/17000 [==============================] - 1s 72us/step - loss: 0.1672 - acc: 0.9435 - val_loss: 0.2904 - val_acc: 0.8829\n",
      "Epoch 5/10\n",
      "17000/17000 [==============================] - 1s 71us/step - loss: 0.1384 - acc: 0.9537 - val_loss: 0.2851 - val_acc: 0.8908\n",
      "Epoch 6/10\n",
      "17000/17000 [==============================] - 1s 71us/step - loss: 0.1140 - acc: 0.9615 - val_loss: 0.3034 - val_acc: 0.8862\n",
      "Epoch 7/10\n",
      "17000/17000 [==============================] - 1s 74us/step - loss: 0.0952 - acc: 0.9699 - val_loss: 0.3568 - val_acc: 0.8726\n",
      "Epoch 8/10\n",
      "17000/17000 [==============================] - 1s 73us/step - loss: 0.0756 - acc: 0.9784 - val_loss: 0.4255 - val_acc: 0.8562\n",
      "Epoch 9/10\n",
      "17000/17000 [==============================] - 1s 76us/step - loss: 0.0619 - acc: 0.9838 - val_loss: 0.3703 - val_acc: 0.8797\n",
      "Epoch 10/10\n",
      "17000/17000 [==============================] - 1s 72us/step - loss: 0.0522 - acc: 0.9862 - val_loss: 0.4031 - val_acc: 0.8775\n"
     ]
    }
   ],
   "source": [
    "# train\n",
    "history = model.fit(partial_x_train,partial_y_train,epochs=10,batch_size=512,\\\n",
    "                    validation_data=(x_val,y_val))"
   ]
  },
  {
   "cell_type": "markdown",
   "metadata": {},
   "source": [
    "训练过程的各种数据保存在返回对象的history属性中,主要包括训练loss变化,验证集loss变化,训练集准确率变化,验证集准确率变化."
   ]
  },
  {
   "cell_type": "code",
   "execution_count": 12,
   "metadata": {},
   "outputs": [
    {
     "data": {
      "text/plain": [
       "dict_keys(['val_acc', 'val_loss', 'loss', 'acc'])"
      ]
     },
     "execution_count": 12,
     "metadata": {},
     "output_type": "execute_result"
    }
   ],
   "source": [
    "# history键\n",
    "history.history.keys()"
   ]
  },
  {
   "cell_type": "markdown",
   "metadata": {},
   "source": [
    "其中,val_acc表示验证集准确率变化,val_loss表示验证集loss变化,loss表示训练集loss变化,acc表示训练集准确率变化."
   ]
  },
  {
   "cell_type": "markdown",
   "metadata": {},
   "source": [
    "## 训练完成之后\n",
    "\n",
    "模型的训练并不是一蹴而就的过程,需要反复进行.主要是模型训练过程中的超参数需要调优,同时训练过程中也会出现如过拟合,欠拟合的问题. 这些问题有时候需要观察当前的训练结果来调整超参数,反复修改,训练后,才算结束."
   ]
  },
  {
   "cell_type": "markdown",
   "metadata": {},
   "source": [
    "**画图**:观测训练过程中loss变化,判断训练过程中可能出现的问题"
   ]
  },
  {
   "cell_type": "code",
   "execution_count": 13,
   "metadata": {},
   "outputs": [
    {
     "data": {
      "image/png": "[encoded data removed]",
      "text/plain": [
       "<Figure size 432x288 with 1 Axes>"
      ]
     },
     "metadata": {
      "needs_background": "light"
     },
     "output_type": "display_data"
    }
   ],
   "source": [
    "# 画图观察损失函数变化情况\n",
    "import matplotlib.pyplot as plt\n",
    "%matplotlib inline\n",
    "\n",
    "history_dict = history.history\n",
    "train_loss = history_dict['loss']\n",
    "val_loss = history_dict['val_loss']\n",
    "\n",
    "# epoch数目: 10个\n",
    "epochs = range(1,len(train_loss)+1)\n",
    "# epochs用来表示x轴坐标列表\n",
    "plt.plot(epochs, train_loss,'b',label='Training loss')\n",
    "plt.plot(epochs, val_loss,'bo',label='Validation loss')\n",
    "\n",
    "plt.title('Training and Validation loss')\n",
    "plt.xlabel('Epochs')\n",
    "plt.ylabel('Loss')\n",
    "plt.legend()\n",
    "\n",
    "plt.show()"
   ]
  },
  {
   "cell_type": "markdown",
   "metadata": {},
   "source": [
    "通过上面的图,可以知道训练集loss随着epoch的增加,逐渐降低,这些符合我们的预期;验证集loss在刚开始几个epoch会降低,之后随着epoch的增加,反而出现loss增加的情况;初步我们可以判断:模型发生了过拟合现象."
   ]
  },
  {
   "cell_type": "code",
   "execution_count": 14,
   "metadata": {},
   "outputs": [
    {
     "data": {
      "image/png": "[encoded data removed]",
      "text/plain": [
       "<Figure size 432x288 with 1 Axes>"
      ]
     },
     "metadata": {
      "needs_background": "light"
     },
     "output_type": "display_data"
    }
   ],
   "source": [
    "# 看准确率acc变化\n",
    "plt.clf()\n",
    "train_acc = history_dict['acc']\n",
    "val_acc = history_dict['val_acc']\n",
    "plt.plot(epochs, train_acc, 'b', label='Training acc')\n",
    "plt.plot(epochs, val_acc, 'bo', label='Validation acc')\n",
    "plt.title('Training and validation accuracy')\n",
    "plt.xlabel('Epochs')\n",
    "plt.ylabel('Loss')\n",
    "plt.legend()\n",
    "\n",
    "plt.show()"
   ]
  },
  {
   "cell_type": "markdown",
   "metadata": {},
   "source": [
    "训练集和测试集上表现差异太大。我们可以确定模型发生过拟合。这里,可以采用减少epoch数目.在epoch=4时停止训练,提前停止训练过程,防止过拟合(一定程度)."
   ]
  },
  {
   "cell_type": "markdown",
   "metadata": {},
   "source": [
    "重新训练"
   ]
  },
  {
   "cell_type": "code",
   "execution_count": 15,
   "metadata": {},
   "outputs": [
    {
     "name": "stdout",
     "output_type": "stream",
     "text": [
      "Epoch 1/4\n",
      "25000/25000 [==============================] - 1s 59us/step - loss: 0.4889 - acc: 0.8197\n",
      "Epoch 2/4\n",
      "25000/25000 [==============================] - 1s 54us/step - loss: 0.2790 - acc: 0.9062\n",
      "Epoch 3/4\n",
      "25000/25000 [==============================] - 1s 53us/step - loss: 0.2109 - acc: 0.9264\n",
      "Epoch 4/4\n",
      "25000/25000 [==============================] - 1s 54us/step - loss: 0.1764 - acc: 0.9385\n"
     ]
    }
   ],
   "source": [
    "#重新训练\n",
    "model = models.Sequential()\n",
    "\n",
    "model.add(layers.Dense(16,activation='relu',input_shape=(10000,)))\n",
    "model.add(layers.Dense(16,activation='relu'))\n",
    "model.add(layers.Dense(1,activation='sigmoid'))\n",
    "\n",
    "model.compile(optimizer='rmsprop',loss='binary_crossentropy',metrics=['acc'])\n",
    "\n",
    "# 这里采用全部的数据,来重新训练\n",
    "history = model.fit(x_train,y_train,epochs=4,batch_size=512)"
   ]
  },
  {
   "cell_type": "markdown",
   "metadata": {},
   "source": [
    "## 预测(使用)\n",
    "\n",
    "使用是我们的最终目的. 模型训练并不是目的,模型训练是过程.训练完成之后得到的模型是我们的工具,我们最终的目的是使用这个工具."
   ]
  },
  {
   "cell_type": "code",
   "execution_count": 16,
   "metadata": {},
   "outputs": [
    {
     "name": "stdout",
     "output_type": "stream",
     "text": [
      "25000/25000 [==============================] - 1s 40us/step\n"
     ]
    }
   ],
   "source": [
    "#使用训练好的模型进行评估,使用测试集评估\n",
    "results = model.evaluate(x_test,y_test)"
   ]
  },
  {
   "cell_type": "markdown",
   "metadata": {},
   "source": [
    "预测结果:"
   ]
  },
  {
   "cell_type": "code",
   "execution_count": 17,
   "metadata": {},
   "outputs": [
    {
     "data": {
      "text/plain": [
       "[0.28959283931732177, 0.8842]"
      ]
     },
     "execution_count": 17,
     "metadata": {},
     "output_type": "execute_result"
    }
   ],
   "source": [
    "results"
   ]
  },
  {
   "cell_type": "markdown",
   "metadata": {},
   "source": [
    "返回结果为:loss和acc. 可以知道模型在未知数据上准确率为88%."
   ]
  },
  {
   "cell_type": "markdown",
   "metadata": {},
   "source": [
    "### 预测\n",
    "\n",
    "使用测试集预测,查看预测结果."
   ]
  },
  {
   "cell_type": "code",
   "execution_count": 19,
   "metadata": {},
   "outputs": [],
   "source": [
    "#使用训练好的模型进行预测\n",
    "results = model.predict(x_test)"
   ]
  },
  {
   "cell_type": "markdown",
   "metadata": {},
   "source": [
    "预测结果中,每个数表示为正类的概率,概率越大,可信度越高,把握越大."
   ]
  },
  {
   "cell_type": "code",
   "execution_count": 20,
   "metadata": {},
   "outputs": [
    {
     "data": {
      "text/plain": [
       "(25000, 1)"
      ]
     },
     "execution_count": 20,
     "metadata": {},
     "output_type": "execute_result"
    }
   ],
   "source": [
    "results.shape"
   ]
  },
  {
   "cell_type": "code",
   "execution_count": 21,
   "metadata": {},
   "outputs": [
    {
     "data": {
      "text/plain": [
       "array([[0.2760158 ],\n",
       "       [0.99978846],\n",
       "       [0.94799995],\n",
       "       ...,\n",
       "       [0.20009224],\n",
       "       [0.10235783],\n",
       "       [0.7126903 ]], dtype=float32)"
      ]
     },
     "execution_count": 21,
     "metadata": {},
     "output_type": "execute_result"
    }
   ],
   "source": [
    "results"
   ]
  },
  {
   "cell_type": "code",
   "execution_count": 22,
   "metadata": {},
   "outputs": [],
   "source": [
    "# 测试集中第二条语句,正类概率为99.9%, 转换成raw data原始文本,确定一下"
   ]
  },
  {
   "cell_type": "code",
   "execution_count": 23,
   "metadata": {},
   "outputs": [
    {
     "name": "stdout",
     "output_type": "stream",
     "text": [
      "? this film requires a lot of patience because it focuses on mood and character development the plot is very simple and many of the scenes take place on the same set in frances ? the sandy dennis character apartment but the film builds to a disturbing climax br br the characters create an atmosphere ? with sexual tension and psychological ? it's very interesting that robert altman directed this considering the style and structure of his other films still the trademark altman audio style is evident here and there i think what really makes this film work is the brilliant performance by sandy dennis it's definitely one of her darker characters but she plays it so perfectly and convincingly that it's scary michael burns does a good job as the mute young man regular altman player michael murphy has a small part the ? moody set fits the content of the story very well in short this movie is a powerful study of loneliness sexual ? and desperation be patient ? up the atmosphere and pay attention to the wonderfully written script br br i praise robert altman this is one of his many films that deals with unconventional fascinating subject matter this film is disturbing but it's sincere and it's sure to ? a strong emotional response from the viewer if you want to see an unusual film some might even say bizarre this is worth the time br br unfortunately it's very difficult to find in video stores you may have to buy it off the internet\n"
     ]
    }
   ],
   "source": [
    "test2_seq = getOriSeq(test_data, 1)\n",
    "print(test2_seq)"
   ]
  },
  {
   "cell_type": "markdown",
   "metadata": {},
   "source": [
    "从文本中,可以看出是正面评估,所以预测正确."
   ]
  },
  {
   "cell_type": "markdown",
   "metadata": {},
   "source": [
    "## 总结\n",
    "\n",
    "问题处理的流程可以划分为:\n",
    "\n",
    "1. 数据处理,处理成深度学习框架可以处理的类型tensor;\n",
    "2. 模型定义,设置每个网络层类型以及网络层的参数;\n",
    "3. 模型编译,设置模型的优化方法,loss函数以及评测指标;\n",
    "4. 训练,指定训练数据,训练标签(监督学习),epoch数目,batch_size大小,也可以指定验证集;\n",
    "5. 观测训练结果,发现问题,修改超参数,反复训练;\n",
    "6. 应用."
   ]
  }
 ],
 "metadata": {
  "kernelspec": {
   "display_name": "Python 3",
   "language": "python",
   "name": "python3"
  },
  "language_info": {
   "codemirror_mode": {
    "name": "ipython",
    "version": 3
   },
   "file_extension": ".py",
   "mimetype": "text/x-python",
   "name": "python",
   "nbconvert_exporter": "python",
   "pygments_lexer": "ipython3",
   "version": "3.5.2"
  }
 },
 "nbformat": 4,
 "nbformat_minor": 2
}
